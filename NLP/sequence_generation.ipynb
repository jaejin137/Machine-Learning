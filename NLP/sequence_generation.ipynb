{
 "cells": [
  {
   "cell_type": "markdown",
   "id": "598c8700-bf22-4aa4-bec5-ef344468cf2e",
   "metadata": {},
   "source": [
    "## We are building a character-level NLP model"
   ]
  },
  {
   "cell_type": "code",
   "execution_count": 2,
   "id": "f2e59be0-0cef-4faa-b4c2-41e2ef26a1dc",
   "metadata": {},
   "outputs": [],
   "source": [
    "#from __future__ import absolute_import, division, print_fuction, unicode_literals\n",
    "\n",
    "import tensorflow as tf\n",
    "\n",
    "import numpy as np\n",
    "import os\n",
    "import time"
   ]
  },
  {
   "cell_type": "markdown",
   "id": "3450f57a-43a3-4db2-845d-d010605841b4",
   "metadata": {},
   "source": [
    "### Download data"
   ]
  },
  {
   "cell_type": "code",
   "execution_count": 5,
   "id": "e77ff846-6473-4e7f-87d2-d2db6dab45cf",
   "metadata": {},
   "outputs": [
    {
     "name": "stdout",
     "output_type": "stream",
     "text": [
      "Downloading data from https://storage.googleapis.com/download.tensorflow.org/data/shakespeare.txt\n",
      "1115394/1115394 [==============================] - 0s 0us/step\n"
     ]
    }
   ],
   "source": [
    "path_to_file = tf.keras.utils.get_file('shakespeare.txt', 'https://storage.googleapis.com/download.tensorflow.org/data/shakespeare.txt')"
   ]
  },
  {
   "cell_type": "markdown",
   "id": "dcf23da0-4d50-4f77-9a61-0e63f90ac96e",
   "metadata": {},
   "source": [
    "### Import data"
   ]
  },
  {
   "cell_type": "code",
   "execution_count": 6,
   "id": "55a264d3-a16b-4133-b677-3ffaf425df6f",
   "metadata": {},
   "outputs": [
    {
     "name": "stdout",
     "output_type": "stream",
     "text": [
      "Length of text: 1115394 characters\n"
     ]
    }
   ],
   "source": [
    "# read, then decode for py2 compat.\n",
    "text = open(path_to_file, 'rb').read().decode(encoding='utf-8')\n",
    "# length of text is the number of characters in it\n",
    "print('Length of text: {} characters'.format(len(text)))"
   ]
  },
  {
   "cell_type": "code",
   "execution_count": 7,
   "id": "93c6418c-90ca-4842-93fd-c55fbd1c5b73",
   "metadata": {},
   "outputs": [
    {
     "name": "stdout",
     "output_type": "stream",
     "text": [
      "First Citizen:\n",
      "Before we proceed any further, hear me speak.\n",
      "\n",
      "All:\n",
      "Speak, speak.\n",
      "\n",
      "First Citizen:\n",
      "You are all resolved rather to die than to famish?\n",
      "\n",
      "All:\n",
      "Resolved. resolved.\n",
      "\n",
      "First Citizen:\n",
      "First, you know Caius Marcius is chief enemy to the people.\n",
      "\n"
     ]
    }
   ],
   "source": [
    "# Take a look at the first 250 characters in text\n",
    "print(text[:250])"
   ]
  },
  {
   "cell_type": "code",
   "execution_count": 8,
   "id": "0bd352a1-6908-4edc-bb48-40a53f0368df",
   "metadata": {},
   "outputs": [
    {
     "name": "stdout",
     "output_type": "stream",
     "text": [
      "65 unique characters\n"
     ]
    }
   ],
   "source": [
    "# the unique characters in the file\n",
    "vocab = sorted(set(text))\n",
    "print('{} unique characters'.format(len(vocab)))"
   ]
  },
  {
   "cell_type": "markdown",
   "id": "641fb283-34e5-4d68-a852-7d114e140323",
   "metadata": {},
   "source": [
    "### Convert characters to numerical index representation"
   ]
  },
  {
   "cell_type": "code",
   "execution_count": 9,
   "id": "1258edec-6394-4f6b-9f76-03f9d417853c",
   "metadata": {},
   "outputs": [],
   "source": [
    "# Creating a mapping from unique characters to indices\n",
    "char2idx = {u:i for i, u in enumerate(vocab)}\n",
    "idx2char = np.array(vocab)\n",
    "\n",
    "text_as_int = np.array([char2idx[c] for c in text])"
   ]
  },
  {
   "cell_type": "code",
   "execution_count": 10,
   "id": "e0756217-a11b-44ff-9fbd-73a619c0b8c9",
   "metadata": {},
   "outputs": [
    {
     "name": "stdout",
     "output_type": "stream",
     "text": [
      "{\n",
      "  '\\n':   0,\n",
      "  ' ' :   1,\n",
      "  '!' :   2,\n",
      "  '$' :   3,\n",
      "  '&' :   4,\n",
      "  \"'\" :   5,\n",
      "  ',' :   6,\n",
      "  '-' :   7,\n",
      "  '.' :   8,\n",
      "  '3' :   9,\n",
      "  ':' :  10,\n",
      "  ';' :  11,\n",
      "  '?' :  12,\n",
      "  'A' :  13,\n",
      "  'B' :  14,\n",
      "  'C' :  15,\n",
      "  'D' :  16,\n",
      "  'E' :  17,\n",
      "  'F' :  18,\n",
      "  'G' :  19,\n",
      "  ...\n",
      "\n"
     ]
    }
   ],
   "source": [
    "print('{')\n",
    "for char, _ in zip(char2idx, range(20)):\n",
    "    print('  {:4s}: {:3d},'.format(repr(char), char2idx[char]))\n",
    "print('  ...\\n')"
   ]
  },
  {
   "cell_type": "code",
   "execution_count": 15,
   "id": "0d549d73-213d-4f83-b488-30d16798b7bc",
   "metadata": {},
   "outputs": [
    {
     "name": "stdout",
     "output_type": "stream",
     "text": [
      "'First Citizen' ---- characters mapped to int ----> [18 47 56 57 58  1 15 47 58 47 64 43 52]\n"
     ]
    }
   ],
   "source": [
    "# Show ohw the first 13 characters from the text are mapped to integers\n",
    "print('{} ---- characters mapped to int ----> {}'.format(repr(text[:13]), text_as_int[:13]))"
   ]
  },
  {
   "cell_type": "markdown",
   "id": "3f26220b-1a31-474e-ba11-bb7e643d296f",
   "metadata": {},
   "source": [
    "### Creating training examples and targets"
   ]
  },
  {
   "cell_type": "code",
   "execution_count": 17,
   "id": "ee38c2df-d9fc-45a7-a5e0-fa95b6645810",
   "metadata": {},
   "outputs": [
    {
     "name": "stdout",
     "output_type": "stream",
     "text": [
      "F\n",
      "i\n",
      "r\n",
      "s\n",
      "t\n"
     ]
    },
    {
     "name": "stderr",
     "output_type": "stream",
     "text": [
      "2024-03-04 10:25:08.525486: I metal_plugin/src/device/metal_device.cc:1154] Metal device set to: Apple M2 Max\n",
      "2024-03-04 10:25:08.525504: I metal_plugin/src/device/metal_device.cc:296] systemMemory: 96.00 GB\n",
      "2024-03-04 10:25:08.525509: I metal_plugin/src/device/metal_device.cc:313] maxCacheSize: 36.00 GB\n",
      "2024-03-04 10:25:08.525540: I tensorflow/core/common_runtime/pluggable_device/pluggable_device_factory.cc:306] Could not identify NUMA node of platform GPU ID 0, defaulting to 0. Your kernel may not have been built with NUMA support.\n",
      "2024-03-04 10:25:08.525553: I tensorflow/core/common_runtime/pluggable_device/pluggable_device_factory.cc:272] Created TensorFlow device (/job:localhost/replica:0/task:0/device:GPU:0 with 0 MB memory) -> physical PluggableDevice (device: 0, name: METAL, pci bus id: <undefined>)\n"
     ]
    }
   ],
   "source": [
    "# The maximum length sentence we want for a single input in characters\n",
    "seq_length = 100\n",
    "examples_per_epoch = len(text)//(seq_length+1)\n",
    "\n",
    "# Create stream of characters for training dataset\n",
    "char_dataset = tf.data.Dataset.from_tensor_slices(text_as_int)\n",
    "\n",
    "for i in char_dataset.take(5):\n",
    "    print(idx2char[i.numpy()])"
   ]
  },
  {
   "cell_type": "code",
   "execution_count": 20,
   "id": "50da38c1-6947-4991-86f6-acbd95bd120f",
   "metadata": {},
   "outputs": [
    {
     "name": "stdout",
     "output_type": "stream",
     "text": [
      "'First Citizen:\\nBefore we proceed any further, hear me speak.\\n\\nAll:\\nSpeak, speak.\\n\\nFirst Citizen:\\nYou '\n",
      "'are all resolved rather to die than to famish?\\n\\nAll:\\nResolved. resolved.\\n\\nFirst Citizen:\\nFirst, you k'\n",
      "\"now Caius Marcius is chief enemy to the people.\\n\\nAll:\\nWe know't, we know't.\\n\\nFirst Citizen:\\nLet us ki\"\n",
      "\"ll him, and we'll have corn at our own price.\\nIs't a verdict?\\n\\nAll:\\nNo more talking on't; let it be d\"\n",
      "'one: away, away!\\n\\nSecond Citizen:\\nOne word, good citizens.\\n\\nFirst Citizen:\\nWe are accounted poor citi'\n"
     ]
    }
   ],
   "source": [
    "# Each sequence has 101 charcters: we'll predict next char given the preceding ones,\n",
    "# up to 100 chars of input\n",
    "sequences = char_dataset.batch(seq_length+1, drop_remainder=True)\n",
    "\n",
    "for item in sequences.take(5):\n",
    "    print(repr(''.join(idx2char[item.numpy()])))"
   ]
  },
  {
   "cell_type": "code",
   "execution_count": 21,
   "id": "0ae263bc-3faf-43c1-b4bb-b34d247bc3af",
   "metadata": {},
   "outputs": [],
   "source": [
    "def split_input_target(chunk):\n",
    "    input_text = chunk[:-1]\n",
    "    target_text = chunk[1:]\n",
    "    return input_text, target_text\n",
    "\n",
    "dataset = sequences.map(split_input_target)"
   ]
  },
  {
   "cell_type": "code",
   "execution_count": 22,
   "id": "397aa22a-634e-494c-b96f-02ac241574b9",
   "metadata": {},
   "outputs": [
    {
     "name": "stdout",
     "output_type": "stream",
     "text": [
      "Input data:  'First Citizen:\\nBefore we proceed any further, hear me speak.\\n\\nAll:\\nSpeak, speak.\\n\\nFirst Citizen:\\nYou'\n",
      "Target data:  'irst Citizen:\\nBefore we proceed any further, hear me speak.\\n\\nAll:\\nSpeak, speak.\\n\\nFirst Citizen:\\nYou '\n"
     ]
    }
   ],
   "source": [
    "for input_example, target_example in dataset.take(1):\n",
    "    print('Input data: ', repr(''.join(idx2char[input_example.numpy()])))\n",
    "    print('Target data: ', repr(''.join(idx2char[target_example.numpy()])))"
   ]
  },
  {
   "cell_type": "code",
   "execution_count": 23,
   "id": "f1ce06e4-0bd0-410a-a80b-a3f11ff6adbd",
   "metadata": {},
   "outputs": [
    {
     "name": "stdout",
     "output_type": "stream",
     "text": [
      "Step    0\n",
      "  input: 18 ('F')\n",
      "  expected output: 47 ('i')\n",
      "Step    1\n",
      "  input: 47 ('i')\n",
      "  expected output: 56 ('r')\n",
      "Step    2\n",
      "  input: 56 ('r')\n",
      "  expected output: 57 ('s')\n",
      "Step    3\n",
      "  input: 57 ('s')\n",
      "  expected output: 58 ('t')\n",
      "Step    4\n",
      "  input: 58 ('t')\n",
      "  expected output: 1 (' ')\n"
     ]
    }
   ],
   "source": [
    "for i, (input_idx, target_idx) in enumerate(zip(input_example[:5], target_example[:5])):\n",
    "    print(\"Step {:4d}\".format(i))\n",
    "    print(\"  input: {} ({:s})\".format(input_idx, repr(idx2char[input_idx])))\n",
    "    print(\"  expected output: {} ({:s})\".format(target_idx, repr(idx2char[target_idx])))"
   ]
  },
  {
   "cell_type": "markdown",
   "id": "ad9677d1-67af-4fd8-998b-33216f9678af",
   "metadata": {},
   "source": [
    "### Shuffle data for stochastic gradient descent"
   ]
  },
  {
   "cell_type": "code",
   "execution_count": 24,
   "id": "dd2cc262-bb89-4b75-b236-0a8648dcfca1",
   "metadata": {},
   "outputs": [
    {
     "data": {
      "text/plain": [
       "<_BatchDataset element_spec=(TensorSpec(shape=(64, 100), dtype=tf.int64, name=None), TensorSpec(shape=(64, 100), dtype=tf.int64, name=None))>"
      ]
     },
     "execution_count": 24,
     "metadata": {},
     "output_type": "execute_result"
    }
   ],
   "source": [
    "# batch size\n",
    "BATCH_SIZE = 64\n",
    "\n",
    "# buffer size to shuffle the dataset\n",
    "# (TF data is designed to work with possibly infinite sequences,\n",
    "# so it doesn't attempt to shuffle the entire sequence in memory.\n",
    "# Instead, it maintains a buffer in which it shuffles elements).\n",
    "BUFFER_SIZE = 10000\n",
    "\n",
    "dataset = dataset.shuffle(BUFFER_SIZE).batch(BATCH_SIZE, drop_remainder=True)\n",
    "\n",
    "dataset"
   ]
  },
  {
   "cell_type": "markdown",
   "id": "7c6281d6-c76f-4413-914c-abddf5d029bf",
   "metadata": {},
   "source": [
    "### Desing neural network"
   ]
  },
  {
   "cell_type": "code",
   "execution_count": 26,
   "id": "d0837cbf-d148-4fde-9bcd-ab1e47527f6e",
   "metadata": {},
   "outputs": [],
   "source": [
    "# length of the vocabulary in chars\n",
    "vocab_size = len(vocab)\n",
    "\n",
    "# embedding dimension\n",
    "embedding_dim = 256\n",
    "\n",
    "# number of RNN units\n",
    "rnn_units = 1024"
   ]
  },
  {
   "cell_type": "code",
   "execution_count": 29,
   "id": "9e369e6e-81bc-48b8-819b-30e3d2dbae2d",
   "metadata": {},
   "outputs": [],
   "source": [
    "def build_model(vocab_size, embedding_dim, rnn_units, batch_size):\n",
    "    model = tf.keras.Sequential([\n",
    "        tf.keras.layers.Embedding(vocab_size, embedding_dim,\n",
    "                                  batch_input_shape=[batch_size, None]),\n",
    "        tf.keras.layers.GRU(rnn_units,\n",
    "                            return_sequences=True,\n",
    "                            stateful=True,\n",
    "                            # last state for index in batch is used as initial state in next batch\n",
    "                            recurrent_initializer='glorot_uniform'),\n",
    "        tf.keras.layers.Dense(vocab_size)\n",
    "    ])\n",
    "    return model"
   ]
  },
  {
   "cell_type": "code",
   "execution_count": 32,
   "id": "cff5ee2d-f668-45de-b0c4-9055c745e4b4",
   "metadata": {},
   "outputs": [],
   "source": [
    "model = build_model(\n",
    "    vocab_size=len(vocab),\n",
    "    embedding_dim=embedding_dim,\n",
    "    rnn_units=rnn_units,\n",
    "    batch_size=BATCH_SIZE)"
   ]
  },
  {
   "cell_type": "code",
   "execution_count": 42,
   "id": "f8caca1e-ebf1-4c7b-9edf-6492d086d1f1",
   "metadata": {},
   "outputs": [
    {
     "name": "stdout",
     "output_type": "stream",
     "text": [
      "(64, 100, 65) # (batch_size, sequence_length, vocab_size)\n"
     ]
    }
   ],
   "source": [
    "# Examine the shape of the output\n",
    "for input_example_batch, target_example_batch in dataset.take(1):\n",
    "    example_batch_predictions = model(input_example_batch)\n",
    "    print(example_batch_predictions.shape, \"# (batch_size, sequence_length, vocab_size)\")"
   ]
  },
  {
   "cell_type": "code",
   "execution_count": 43,
   "id": "f1c1adeb-89ff-4bea-9508-0d7c8ccc1f62",
   "metadata": {},
   "outputs": [
    {
     "name": "stdout",
     "output_type": "stream",
     "text": [
      "Model: \"sequential_1\"\n",
      "_________________________________________________________________\n",
      " Layer (type)                Output Shape              Param #   \n",
      "=================================================================\n",
      " embedding_2 (Embedding)     (64, None, 256)           16640     \n",
      "                                                                 \n",
      " gru_2 (GRU)                 (64, None, 1024)          3938304   \n",
      "                                                                 \n",
      " dense_1 (Dense)             (64, None, 65)            66625     \n",
      "                                                                 \n",
      "=================================================================\n",
      "Total params: 4021569 (15.34 MB)\n",
      "Trainable params: 4021569 (15.34 MB)\n",
      "Non-trainable params: 0 (0.00 Byte)\n",
      "_________________________________________________________________\n"
     ]
    }
   ],
   "source": [
    "model.summary()"
   ]
  },
  {
   "cell_type": "code",
   "execution_count": 44,
   "id": "fc8f17b1-c582-49a5-8737-a94c31c99029",
   "metadata": {},
   "outputs": [],
   "source": [
    "sampled_indices = tf.random.categorical(example_batch_predictions[0], num_samples=1)\n",
    "sampled_indices = tf.squeeze(sampled_indices, axis=-1).numpy()"
   ]
  },
  {
   "cell_type": "code",
   "execution_count": 45,
   "id": "5d15193f-9df4-437a-941c-28e47704b460",
   "metadata": {},
   "outputs": [
    {
     "data": {
      "text/plain": [
       "array([ 6, 16, 42, 22,  9, 15, 55, 22, 28,  7, 50, 24,  3, 61, 47, 58, 48,\n",
       "       54, 26, 62, 21,  9,  3, 42, 61, 12, 16,  3, 41,  9, 52, 62, 50,  1,\n",
       "        8, 10, 15, 22, 22, 12, 19, 16,  0, 52, 32, 39, 55,  3, 30, 40, 37,\n",
       "       27, 29, 61, 19, 64, 30, 57, 36, 63, 35,  7, 23,  2, 57, 33, 50, 31,\n",
       "       20, 41,  3, 36, 50, 59, 11, 22, 59, 44, 13, 34, 51, 31,  4, 29, 26,\n",
       "        6, 24, 37, 19, 53, 40, 44, 40, 41, 59, 17, 63, 42, 27, 59])"
      ]
     },
     "execution_count": 45,
     "metadata": {},
     "output_type": "execute_result"
    }
   ],
   "source": [
    "sampled_indices"
   ]
  },
  {
   "cell_type": "code",
   "execution_count": 46,
   "id": "79c60e08-a30c-4553-bc53-1e8d41f896de",
   "metadata": {},
   "outputs": [
    {
     "name": "stdout",
     "output_type": "stream",
     "text": [
      "Input: \n",
      " ' is too much sad:\\nYou promised, when you parted with the king,\\nTo lay aside life-harming heaviness\\nA'\n",
      "\n",
      "Next Char Predictions: \n",
      " ',DdJ3CqJP-lL$witjpNxI3$dw?D$c3nxl .:CJJ?GD\\nnTaq$RbYOQwGzRsXyW-K!sUlSHc$Xlu;JufAVmS&QN,LYGobfbcuEydOu'\n"
     ]
    }
   ],
   "source": [
    "print(\"Input: \\n\", repr(\"\".join(idx2char[input_example_batch[0]])))\n",
    "print()\n",
    "print(\"Next Char Predictions: \\n\", repr(\"\".join(idx2char[sampled_indices])))"
   ]
  },
  {
   "cell_type": "markdown",
   "id": "49c5fdc3-ed7c-45e4-8f89-1ccc7e81c594",
   "metadata": {},
   "source": [
    "### Compile model"
   ]
  },
  {
   "cell_type": "code",
   "execution_count": 47,
   "id": "cf6b70a6-23d2-4228-8445-af6fd1beb06e",
   "metadata": {},
   "outputs": [
    {
     "name": "stdout",
     "output_type": "stream",
     "text": [
      "Prediction shape:  (64, 100, 65)  # (batch_size, sequence_length, vocab_size)\n",
      "scalar_loss:       4.174061\n"
     ]
    }
   ],
   "source": [
    "def loss(labels, logits):\n",
    "    return tf.keras.losses.sparse_categorical_crossentropy(labels, logits, from_logits=True)\n",
    "\n",
    "example_batch_loss = loss(target_example_batch, example_batch_predictions)\n",
    "print(\"Prediction shape: \", example_batch_predictions.shape, \" # (batch_size, sequence_length, vocab_size)\")\n",
    "print(\"scalar_loss:      \", example_batch_loss.numpy().mean())"
   ]
  },
  {
   "cell_type": "code",
   "execution_count": 48,
   "id": "bb5a3035-7b9d-407c-a18f-0575aab2e036",
   "metadata": {},
   "outputs": [],
   "source": [
    "model.compile(optimizer='adam', loss=loss)"
   ]
  },
  {
   "cell_type": "code",
   "execution_count": 49,
   "id": "f10e41b7-c833-4969-b3bd-ef0bf1f07382",
   "metadata": {},
   "outputs": [],
   "source": [
    "# directory where the checkpoints will be saved\n",
    "checkpoint_dir = './model_output/seqGen'\n",
    "\n",
    "# name of the checkpoint files\n",
    "checkpoint_prefix = os.path.join(checkpoint_dir, \"ckpt_{epoch}\")\n",
    "\n",
    "checkpoint_callback = tf.keras.callbacks.ModelCheckpoint(\n",
    "    filepath=checkpoint_prefix,\n",
    "    save_weights_only=True)"
   ]
  },
  {
   "cell_type": "markdown",
   "id": "71b4d96a-c836-469f-bac9-0353bb226a66",
   "metadata": {},
   "source": [
    "### Train"
   ]
  },
  {
   "cell_type": "code",
   "execution_count": 50,
   "id": "9c037a64-d516-4d9a-8f51-800d0116f7f9",
   "metadata": {},
   "outputs": [],
   "source": [
    "EPOCHS = 30"
   ]
  },
  {
   "cell_type": "code",
   "execution_count": 51,
   "id": "407fe471-db71-4381-aa88-c8136a4ef5cd",
   "metadata": {
    "scrolled": true
   },
   "outputs": [
    {
     "name": "stdout",
     "output_type": "stream",
     "text": [
      "Epoch 1/30\n"
     ]
    },
    {
     "name": "stderr",
     "output_type": "stream",
     "text": [
      "2024-03-04 10:54:47.406029: I tensorflow/core/grappler/optimizers/custom_graph_optimizer_registry.cc:117] Plugin optimizer for device_type GPU is enabled.\n"
     ]
    },
    {
     "name": "stdout",
     "output_type": "stream",
     "text": [
      "172/172 [==============================] - 10s 40ms/step - loss: 2.6853\n",
      "Epoch 2/30\n",
      "172/172 [==============================] - 7s 38ms/step - loss: 1.9821\n",
      "Epoch 3/30\n",
      "172/172 [==============================] - 7s 38ms/step - loss: 1.7143\n",
      "Epoch 4/30\n",
      "172/172 [==============================] - 7s 38ms/step - loss: 1.5629\n",
      "Epoch 5/30\n",
      "172/172 [==============================] - 7s 38ms/step - loss: 1.4703\n",
      "Epoch 6/30\n",
      "172/172 [==============================] - 7s 39ms/step - loss: 1.4088\n",
      "Epoch 7/30\n",
      "172/172 [==============================] - 7s 39ms/step - loss: 1.3611\n",
      "Epoch 8/30\n",
      "172/172 [==============================] - 7s 39ms/step - loss: 1.3224\n",
      "Epoch 9/30\n",
      "172/172 [==============================] - 7s 39ms/step - loss: 1.2882\n",
      "Epoch 10/30\n",
      "172/172 [==============================] - 7s 39ms/step - loss: 1.2535\n",
      "Epoch 11/30\n",
      "172/172 [==============================] - 7s 39ms/step - loss: 1.2233\n",
      "Epoch 12/30\n",
      "172/172 [==============================] - 7s 38ms/step - loss: 1.1916\n",
      "Epoch 13/30\n",
      "172/172 [==============================] - 7s 39ms/step - loss: 1.1588\n",
      "Epoch 14/30\n",
      "172/172 [==============================] - 7s 38ms/step - loss: 1.1243\n",
      "Epoch 15/30\n",
      "172/172 [==============================] - 7s 40ms/step - loss: 1.0903\n",
      "Epoch 16/30\n",
      "172/172 [==============================] - 7s 40ms/step - loss: 1.0565\n",
      "Epoch 17/30\n",
      "172/172 [==============================] - 8s 40ms/step - loss: 1.0203\n",
      "Epoch 18/30\n",
      "172/172 [==============================] - 8s 40ms/step - loss: 0.9835\n",
      "Epoch 19/30\n",
      "172/172 [==============================] - 8s 41ms/step - loss: 0.9488\n",
      "Epoch 20/30\n",
      "172/172 [==============================] - 8s 41ms/step - loss: 0.9144\n",
      "Epoch 21/30\n",
      "172/172 [==============================] - 8s 41ms/step - loss: 0.8819\n",
      "Epoch 22/30\n",
      "172/172 [==============================] - 8s 41ms/step - loss: 0.8518\n",
      "Epoch 23/30\n",
      "172/172 [==============================] - 8s 40ms/step - loss: 0.8216\n",
      "Epoch 24/30\n",
      "172/172 [==============================] - 8s 40ms/step - loss: 0.7970\n",
      "Epoch 25/30\n",
      "172/172 [==============================] - 7s 40ms/step - loss: 0.7739\n",
      "Epoch 26/30\n",
      "172/172 [==============================] - 8s 40ms/step - loss: 0.7547\n",
      "Epoch 27/30\n",
      "172/172 [==============================] - 7s 39ms/step - loss: 0.7367\n",
      "Epoch 28/30\n",
      "172/172 [==============================] - 7s 39ms/step - loss: 0.7209\n",
      "Epoch 29/30\n",
      "172/172 [==============================] - 7s 39ms/step - loss: 0.7087\n",
      "Epoch 30/30\n",
      "172/172 [==============================] - 7s 39ms/step - loss: 0.6975\n"
     ]
    }
   ],
   "source": [
    "history = model.fit(dataset, epochs=EPOCHS, callbacks=[checkpoint_callback])"
   ]
  },
  {
   "cell_type": "markdown",
   "id": "b6c0bd29-3538-42e6-8054-0547f982c938",
   "metadata": {},
   "source": [
    "### Rebuild model with single output for generating text one char at a time"
   ]
  },
  {
   "cell_type": "code",
   "execution_count": 52,
   "id": "1ba21802-dd9d-4e84-99c5-00fa4705a024",
   "metadata": {},
   "outputs": [
    {
     "data": {
      "text/plain": [
       "'./model_output/seqGen/ckpt_30'"
      ]
     },
     "execution_count": 52,
     "metadata": {},
     "output_type": "execute_result"
    }
   ],
   "source": [
    "tf.train.latest_checkpoint(checkpoint_dir)"
   ]
  },
  {
   "cell_type": "code",
   "execution_count": 54,
   "id": "d4ee2046-c90d-4027-ae53-038b40369e61",
   "metadata": {},
   "outputs": [],
   "source": [
    "model = build_model(vocab_size, embedding_dim, rnn_units, batch_size=1)\n",
    "\n",
    "model.load_weights(tf.train.latest_checkpoint(checkpoint_dir))\n",
    "\n",
    "model.build(tf.TensorShape([1, None]))"
   ]
  },
  {
   "cell_type": "code",
   "execution_count": 55,
   "id": "0d39d39c-4bee-40c8-b262-08077ade0ddd",
   "metadata": {},
   "outputs": [
    {
     "name": "stdout",
     "output_type": "stream",
     "text": [
      "Model: \"sequential_2\"\n",
      "_________________________________________________________________\n",
      " Layer (type)                Output Shape              Param #   \n",
      "=================================================================\n",
      " embedding_3 (Embedding)     (1, None, 256)            16640     \n",
      "                                                                 \n",
      " gru_3 (GRU)                 (1, None, 1024)           3938304   \n",
      "                                                                 \n",
      " dense_2 (Dense)             (1, None, 65)             66625     \n",
      "                                                                 \n",
      "=================================================================\n",
      "Total params: 4021569 (15.34 MB)\n",
      "Trainable params: 4021569 (15.34 MB)\n",
      "Non-trainable params: 0 (0.00 Byte)\n",
      "_________________________________________________________________\n"
     ]
    }
   ],
   "source": [
    "model.summary()"
   ]
  },
  {
   "cell_type": "code",
   "execution_count": 60,
   "id": "c96988e6-5642-4def-81d6-8f16df47bc25",
   "metadata": {},
   "outputs": [],
   "source": [
    "def generate_text(model, start_string):\n",
    "    # evaluation step (generating text using the learned model)\n",
    "\n",
    "    # number of characters to generate\n",
    "    num_generate = 10000\n",
    "\n",
    "    # converting out start string to numbers (vectorizing)\n",
    "    input_eval = [char2idx[s] for s in start_string]\n",
    "    input_eval = tf.expand_dims(input_eval, 0)\n",
    "\n",
    "    # empty string to store out results\n",
    "    text_generated = []\n",
    "\n",
    "    # Low temperatures results in more predictable text.\n",
    "    # Higher temperatures results in more surprising text.\n",
    "    # Experiment to find the best setting.\n",
    "    temperature = 1.0\n",
    "\n",
    "    # Here batch size == 1\n",
    "    model.reset_states()\n",
    "    for i in range(num_generate):\n",
    "        predictions = model(input_eval)\n",
    "        # remove the batch dimension\n",
    "        predictions = tf.squeeze(predictions, 0)\n",
    "\n",
    "        # using a categorical distribution to predict the char returned by the model\n",
    "        predictions = predictions / temperature\n",
    "        predicted_id = tf.random.categorical(predictions, num_samples=1)[-1,0].numpy()\n",
    "\n",
    "        # We pass the predicted char as the next input to the model\n",
    "        # along with the previous hidden state\n",
    "        input_eval = tf.expand_dims([predicted_id], 0)\n",
    "\n",
    "        text_generated.append(idx2char[predicted_id])\n",
    "\n",
    "    return (start_string + ''.join(text_generated))"
   ]
  },
  {
   "cell_type": "code",
   "execution_count": 61,
   "id": "0ff70ada-99ec-467e-af9c-c0ea8995052c",
   "metadata": {
    "scrolled": true
   },
   "outputs": [
    {
     "name": "stdout",
     "output_type": "stream",
     "text": [
      "ROMEO: two may, sir, when gaze one word.\n",
      "\n",
      "GREMIO:\n",
      "No, not a whit: I will recond Saying.\n",
      "\n",
      "DUKE VINCENTIO:\n",
      "Sirrah, tell me, by Saito back.\n",
      "Put them to our authority,\n",
      "God that the in this night I am afraid.\n",
      "\n",
      "NORTHUMBERLAND:\n",
      "The noble gratigious myself self:\n",
      "Then wishou may: what man shall be\n",
      "so: yea, a beggar, that there's nothing else\n",
      "But father,\n",
      "Whether it be not one: Let have I loved thee warm again.\n",
      "D III:\n",
      "Catesby!\n",
      "\n",
      "CAPULET:\n",
      "Alas, all dissembling royal grandsire steeds,\n",
      "Which if they but awake, thy creature bless\n",
      "My son I have fought,\n",
      "And hold you for a holy many have and others that had been many;\n",
      "For 'twas, good cheer!\n",
      "\n",
      "PETRUCHIO:\n",
      "But say, what man that be abhort's tongue,\n",
      "I would do so recompear of it; it must be past\n",
      "Break out a parlimadeneath from otherwise, but valiant growital powerful for your bosom.\n",
      "\n",
      "KING EDWARD IV:\n",
      "Now tell me what, will haze; for layour hay behind;\n",
      "And say'st thou me as at home: he's said yet not meet,\n",
      "Did burneing placket with charitable degreeting!\n",
      "How sir! You have done forth your houses! You, very well,\n",
      "Respecture them of this famous liberal i' the head,\n",
      "But pale your grace.\n",
      "\n",
      "GLOUCESTER:\n",
      "Sweet Clifford, that your viry wind slaves,\n",
      "Ore 'scape to bight them not.\n",
      "\n",
      "CLARENCE:\n",
      "O, tell my life--made queen, your crown be well; you noturish it.\n",
      "\n",
      "BRUTUS:\n",
      "Not off, there is a pleas\n",
      "Are-nail in earth, though you heard'st\n",
      "From Rome.\n",
      "\n",
      "MERCUTIO:\n",
      "Call thy mother's tears can help you,\n",
      "But, sir! why, sir, what dogs, my lord, cheer him to\n",
      "\n",
      "Misage and darks, and desperate arms,\n",
      "By dating him, but merriment,\n",
      "To make it gape: we have seen thee ill service\n",
      "to't in punt, but not manish'd: she is with them,\n",
      "His doubled a person more with habbed sleep,\n",
      "Who having inted be my\n",
      "cheering this Claudio's Curse becomes your body to the pesses.\n",
      "\n",
      "KING HENRY VI:\n",
      "Well, therefore know your messen made them acqustome you; o! 'tis nothing\n",
      "but one doom of me, and did folliar swover, he comest.\n",
      "\n",
      "ESCALUS:\n",
      "Every letters for a queen, with those that rub,'d his unfacent,\n",
      "A thruck of ile heir d man, who are they\n",
      "ye come on't, though piecely persuasion.\n",
      "\n",
      "MARIANA:\n",
      "Why hadst thou slike no more?\n",
      "\n",
      "CORIOLANUS:\n",
      "Ay, as thou lovest;\n",
      "The ratu rebuke mine enemy is nark.\n",
      "\n",
      "LEONTES:\n",
      "What masal garder! mution, madam:\n",
      "I will,--in hearing of it now,\n",
      "but for that hungry men, if live Master Froth\n",
      "have, that do contest what you have\n",
      "Be sworn that e'er I put by one that do anger a tavour of the sing.\n",
      "\n",
      "DUCHESS OF YORK:\n",
      "I will therefore we have\n",
      "But to the grewholds he had so discourse,\n",
      "Who first with such but of love,\n",
      "I desire the emptier roble from his honour.\n",
      "\n",
      "HENRY BOLINGBROKE:\n",
      "I think you fear: 'Mif Romeo\n",
      "Should custom of thy word, while the senantic of\n",
      "old are deceived in those who,\n",
      "having behold it.\n",
      "\n",
      "First Servant:\n",
      "WI will go be but for our heads\n",
      "From off myswew her eyes in jest,\n",
      "Gon's wife, she had so discovered.\n",
      "\n",
      "SICINIUS:\n",
      "We are let till they\n",
      "are hangman: on, brothers be true:\n",
      "Up with an asuft of revenge,\n",
      "Which with thator, lords:\n",
      "Those were of joy\n",
      "To short me both your vants, give away in Salst I have not perfect spacks.\n",
      "Your leave and excullest me, come on his abtence, it: but\n",
      "I tark as famously, he's head, majesty,\n",
      "It is tyrannous presiness use the nupter,\n",
      "Should call him had been cannot:\n",
      "Boy, and so strange issue.\n",
      "\n",
      "POLIXENES:\n",
      "If love spend the world\n",
      "Leave unskilful, with all my service\n",
      "Of his great comfort,\n",
      "For Somerset, officer herself, I see\n",
      "I make for good to command; You have show'd my best laws,\n",
      "That want ing person. They say the royalthe of all the weeding every tongue.\n",
      "\n",
      "QUEEN:\n",
      "A pricket had!\n",
      "\n",
      "LADY CAPULET:\n",
      "No bitter,\n",
      "Shall, not your voices: a better guidf or ady!\n",
      "\n",
      "ISABELLA:\n",
      "To-morrowS:\n",
      "So that words, my name lay'd for a peace anspeng nine\n",
      "Fatherbion will draw in such offices, that Friar Jehasa\n",
      "Wouldst thou kill mine eyes upon my wife,\n",
      "He smiles, and accept our subjects. Heaven keep your grace,\n",
      "But doth are rock and die.\n",
      "\n",
      "KING RICHARD II:\n",
      "Look, what then remains a happy help your purses. Take it not anon.\n",
      "\n",
      "CLAUDIO:\n",
      "Cousins i' God good?\n",
      "\n",
      "AUTOLICK:\n",
      "I care not what:\n",
      "So that thy gross careful marriage, when am I told you.\n",
      "\n",
      "CORIOLANUS:\n",
      "What hast thou for perpetuous,\n",
      "'Sere he, or very good breas, ano; neither needs must know.\n",
      "\n",
      "GLOUCESTER:\n",
      "\n",
      "KING EDWARD IV:\n",
      "But, for her heaving lier,\n",
      "A boy or town your honours, scarce condition\n",
      "To incast it will entreat her repent,\n",
      "So train the capp? Mest is lost in\n",
      "To him but with all my nature weeping\n",
      "Inly's enemy, for now were\n",
      "not within; but here comes gone.\n",
      "\n",
      "GLOUE:\n",
      "Come, come, you are women!\n",
      "\n",
      "SICINIUS:\n",
      "Go, gesty your old\n",
      "Give to Those people is a fair word,\n",
      "Of hooping by their own visitest.\n",
      "\n",
      "DUKE VINCENTIO:\n",
      "Master, good comfort, from that side upon my kinglen of\n",
      "A god of breach, which had borne your patience\n",
      "In mad and weakness, who were use you,\n",
      "By noze, strive from him, by this.\n",
      "St a'll draw.\n",
      "\n",
      "CAMILLO:\n",
      "Beseech you,--\n",
      "You that dost thou with Rocanstand now for this\n",
      "Est STER:\n",
      "'Twill be found aims;\n",
      "If you do far in\n",
      "prison, where lies heartily, where is he\n",
      "Canto help in quiet all,\n",
      "That foul t light we hate,\n",
      "During awhile term as severe contents disting forth:\n",
      "What should say, Lords: doe all welf\n",
      "Incaloners and beauty:\n",
      "This, asher.\n",
      "\n",
      "Second Citizen:\n",
      "So do I' the wise are factor of us\n",
      "And for her alone. He that rums than his orch about the better,\n",
      "If well fellow: if any flaxt, your lovest excuse me for the\n",
      "queen'--Nurse, this good men are come to do and place\n",
      "Doth advestior to our tarcilikes: Henry, and my lettle, bid I see most\n",
      "wing, what mother's shamn doth pawn;\n",
      "Therefore leave with inlips and start them, who restrain\n",
      "The conscience and the thip?\n",
      "\n",
      "Lord Marshal:\n",
      "Lash the dall indeed he is but ennand.\n",
      "When, after greatness are almoit of rotten,\n",
      "That most are willing. We prove-sacred hid\n",
      "Or shame to hand: thou hast away;\n",
      "For now the wind was wretched and exclable.\n",
      "\n",
      "BRAKENBURY:\n",
      "Nwick your grace's word, and buried and man\n",
      "That made the absent dog to mock'd with Mowbray's womb,\n",
      "And leave not with less disposing i'l yet grow vantagess.\n",
      "Therefore, to be sent for to the gaol. Few marriagest redeems you come now to begin to doing.\n",
      "\n",
      "SICINIUS:\n",
      "He's reasonshippation, you shall have\n",
      "all niaris to behold him well.\n",
      "Because the heavens do lose the postern with daughter?\n",
      "\n",
      "LUCIO:\n",
      "Confirm I have given a day.\n",
      "But when from death doth freeze up to gue.\n",
      "\n",
      "DUKE OF YORK:\n",
      "But wherefore stay, he's something that removed\n",
      "Which heaven sees her wheel'd arm,\n",
      "Canopied and labouried and anscord yourself.\n",
      "\n",
      "QUEEN ELIZABETH:\n",
      "Hark here, God give ouch hand, if the sin that you owest it?\n",
      "\n",
      "CLARENCE:\n",
      "What, is not Romeo, that does not the be froward,\n",
      "But made ke nip.\n",
      "Now, peace, men can your fellow, sir.\n",
      "\n",
      "Lord Mayor:\n",
      "Nurse, were not what to be shevate the town; hath denied\n",
      "With gaming plack his body to the cure,\n",
      "For such a Richard kill'd itsecession swards seal o'erw\n",
      "To be hope to compare dient, and Gentle his end,\n",
      "When thou wert calm love to God--\n",
      "And he, that rash-like too.\n",
      "\n",
      "PRINCE:\n",
      "Blind earth, thou hast a world eatle;\n",
      "there won me for my country's good,\n",
      "This noise o' the sun when thou wert blow of nine\n",
      "But smissing here at sea, being a bat\n",
      "an example that I lay my true sorrow;\n",
      "Rights in veins, or the Earl of Saint,\n",
      "And railful policy on my xeat,\n",
      "I'll feet my bunishment of you more transman: call him not hold.\n",
      "\n",
      "ROMEO:\n",
      "Nay, good morrow, Lewis,--\n",
      "\n",
      "SICINIUS:\n",
      "God some old gammostes. He cannot keep him when he takes his\n",
      "gless repairing well content dead.\n",
      "\n",
      "HERMIONE:\n",
      "By this remain and his\n",
      "ertain all your breasons.\n",
      "\n",
      "BRUTUS:\n",
      "Sir, speak thou the one at the friend of man\n",
      "Than doing them, as he did, it did; a monster, all is revolt\n",
      "Of our demand to be heard with rother's grandfit there before, for we have sink,\n",
      "That which I pass by, when I was worth shrinks from death.'\n",
      "\n",
      "BARNARDINE:\n",
      "I will take it up; spead like an if the world\n",
      "frowns one, at SERSEB:\n",
      "Now Montague, of Sicinius Benedication,\n",
      "And nor the minner's slatchery, hatry more\n",
      "Than all the precious imagine here.\n",
      "Vouch again cousin: who cause\n",
      "That our solemnifally intend,\n",
      "And with your free loved me to the geople,\n",
      "beserved in revenge, that thou hast need of it.\n",
      "\n",
      "KATHARINA:\n",
      "I never warm to hear thee thither: to speak,\n",
      "I am a poor fellow, break out a little bot\n",
      "on thou art, pen them not honest.\n",
      "\n",
      "KATHARINA:\n",
      "Each love' can make my heart to turn, wherein they rather\n",
      "IO:\n",
      "So help my present profest death, thou restray,\n",
      "For whom he use instruments strike their fears?\n",
      "Thy words revive, or which they do desire\n",
      "To more ourses; I knew him on thy day of prate.\n",
      "\n",
      "JULIET:\n",
      "I will unto this world:\n",
      "Then, widow, by my soul, I'll say he's what is yours.\n",
      "\n",
      "PROSPERO:\n",
      "What, a day, say we;\n",
      "Away my wife, sir? hark! you preference he that sours\n",
      "This day's book, be courserved likely;\n",
      "Made ibjudy voices.\n",
      "You hear these art,\n",
      "Shortly shall, for peaught of incest.\n",
      "This fellow is a glimany: therefore, I pray a Richard grave?\n",
      "\n",
      "DUKE VINCENTIO:\n",
      "No, indeed, sweet sustendains, wind cares and boys,\n",
      "Consider of the preceptions singer of help\n",
      "His contract sweet water to the stars at a\n",
      "glorious town, devolinaw two,\n",
      "No less\n",
      "that have fall backward when that slanders I intend.\n",
      "\n",
      "KING RICHARD III:\n",
      "Gaunt you any in this scorn at the next warthir,\n",
      "A mockery on, and not with him.\n",
      "\n",
      "GLOUCESTER:\n",
      "Your father, cheerly on, and good my lord,\n",
      "Will then had gone by? and, madam, go be.\n",
      "If I dare, trusty make thee thus:\n",
      "Both follow me and half or worst,\n",
      "Thou canst get your grace to do you,\n",
      "The goor I have no delay of graves,\n",
      "But that of its steal on poor undone.\n",
      "\n",
      "QUEEN ELIZABETH:\n",
      "Passions will but answer them!\n",
      "\n",
      "GREMIO:\n",
      "Te must help, your praises,\n",
      "Was rudel'stree, when that with such behalf\n",
      "Of folly dew and child shall be upon this fair creat-strrift and shrink.\n",
      "\n",
      "BUSHY:\n",
      "It beats your grace imping to such a pace.\n",
      "Your brother could haply know the Kightood Warwick; for one blow\n",
      "that I will do it wishing fairly is mine--\n",
      "Into the bloody frown. Such apparen\n",
      "By Caius Marcius?\n",
      "\n",
      "LEONTES:\n",
      "Madam, know,\n",
      "I have to-morrow nor purses new and sil having throne,\n",
      "As if that made the facing show!\n",
      "\n",
      "NORTEN:\n",
      "So locks a head se action.\n",
      "Say to Frence flowers of all the world add rich,\n"
     ]
    }
   ],
   "source": [
    "print(generate_text(model, start_string=u\"ROMEO: \"))"
   ]
  },
  {
   "cell_type": "code",
   "execution_count": 62,
   "id": "a2a1825a-5d5b-44c7-b9f2-708386385805",
   "metadata": {
    "scrolled": true
   },
   "outputs": [
    {
     "name": "stdout",
     "output_type": "stream",
     "text": [
      "HAMLET: To be, or not to be: that is the question: that we bear\n",
      "I'll play among the stones' reason, that had made heart\n",
      "I'll give them by a sacrifice,\n",
      "A gentleman ever Duke of York.\n",
      "\n",
      "GLOUCESTER:\n",
      "It is a spend; and th Lord Nay delight\n",
      "Did muster your vanquisher,\n",
      "As ours o' the common bound:\n",
      "Be veried our dutation, what with deceisable are\n",
      "Slains my gains, Jace! Friar John, be avoided,\n",
      "As 'twere to catch them. Nay, but giddy life\n",
      "And halth of graves, herself,\n",
      "A tallow-cornerance, that feel now his death,\n",
      "Having my heart were fly. For this business\n",
      "Will be as stronger bassible act are so light deep.\n",
      "\n",
      "CLEOMENES:\n",
      "Bliss and joy.\n",
      "Well, sir. There's it nigh, by this time attook him here,\n",
      "And not the better.\n",
      "\n",
      "CALIBLE:\n",
      "It may be so deposed.\n",
      "\n",
      "Second Citizen:\n",
      "And so dear is in the skies?\n",
      "\n",
      "All:\n",
      "Those mocked places in my sorrow's daughter Christ.\n",
      "\n",
      "Shepherd:\n",
      "Call it sad thee in him than an assure\n",
      "Thou came, where le's some piece was never in the scene.\n",
      "\n",
      "POLIXENES:\n",
      "I do beseech thee,\n",
      "On thy heart of Edward's faces,\n",
      "But many years of natures hours,\n",
      "Your person monactures. S now comes?\n",
      "The fruits of loversy friendships! who, I pray you?\n",
      "\n",
      "CURTIS:\n",
      "I cripe to Ravenspurgh! and after many good\n",
      "honours in peace, my woour dest,\n",
      "Comes, in father, by your goodness\n",
      "Let's broke you better.\n",
      "\n",
      "Second Capulet:\n",
      "Hark you, with one worthy Vene-dait's STER:\n",
      "That, er he is, but ettendance to\n",
      "OFLA:\n",
      "You are s! for, ere I\n",
      "Chap-bight, madam, come.\n",
      "\n",
      "Clown:\n",
      "Nay, when he request 'shall be thy years; and all those wife\n",
      "To fair Bianca, she is wept but\n",
      "I, Jace be freedo his grace appointed,\n",
      "Master of all, the constable's own word with thee!\n",
      "My acquaint despair none, and will not let us alone.\n",
      "\n",
      "PAULINA:\n",
      "Gentle Beneformaid?\n",
      "\n",
      "HENRY BOLINGBROKE:\n",
      "I think he is all;\n",
      "Therefore be said with wilfs--\n",
      "\n",
      "JULIET:\n",
      "The poor devolt will take ord again:\n",
      "But here is Cartis a sleep: to the marches here\n",
      "Is Rove pent, thy met, yet doubt\n",
      "ce?\n",
      "\n",
      "Such a foe.\n",
      "\n",
      "HORTENSIO:\n",
      "Farewell, my quarrel and pale planted\n",
      "the Hereford and Robertion,\n",
      "To brinh a book of all women, thou two being gorse,\n",
      "So triumph the parlea feir's night:\n",
      "I'll give him what attempt you, lady, on my head\n",
      "So soon as scarcy and pale and break away\n",
      "The heads of Oxford and fortiness friar,\n",
      "I would wishortuning here;\n",
      "But didst thou not come? she as bill your exclaims where he hath\n",
      "wounds that from the constable's venom of that\n",
      "To lose by victorion, is done,\n",
      "Having no more but stored of bour your house. Now, my lords,\n",
      "Will have no more. Away with nothing ert thou for my back:\n",
      "There here write up her hatred comes vaning.\n",
      "\n",
      "CURTISLA:\n",
      "Night, come, let us forth of love;\n",
      "But what my take it in my Romeo report an ill right:\n",
      "To whom the general mortal gate?\n",
      "\n",
      "KING RICHARD III:\n",
      "Say, I'll not mad her love.\n",
      "\n",
      "FRIAR LAURENCE:\n",
      "I willul be my husband!' but we have spent ou\n",
      "happy in your company,\n",
      "I mean to thee, if not the devil\n",
      "Will I make before then less of spurior maiden:\n",
      "Now by the stocks on you; he did so much\n",
      "Before I fought!\n",
      "But still with heart, the throne, a periories,\n",
      "I speak in its of loss!\n",
      "Our garden closs they will be master, which you\n",
      "laid, worthy capk!\n",
      "\n",
      "PRINCE:\n",
      "Seal'd with that hurliden more happy brother,\n",
      "And support it:\n",
      "All bless your part, they thought it give me life?\n",
      "\n",
      "GREMIO:\n",
      "True, sir; come. Floming the younger lure.\n",
      "\n",
      "GREEN:\n",
      "Come, come, thou art a villain, as it were a passage\n",
      "Once bad lions withal. The\n",
      "senators: his art if you come to them.\n",
      "\n",
      "BRUTUS:\n",
      "Faith, noble lord!\n",
      "What's here? an fortune of a knee,\n",
      "Tear at my humour'd with irms, cacking\n",
      "a horse-a present, wedghancided,\n",
      "Who lets it rather had my pains for thee,\n",
      "Hollow me\n",
      "a school-mall'd King Henry's war,\n",
      "Even likely quarrel singular for a ser, to stop the blind, are e\n",
      "\n",
      "Perenou deserve.\n",
      "\n",
      "GREMIO:\n",
      "Farewell, off so shall not.\n",
      "\n",
      "POLIXENES:\n",
      "Vosst bitter to me followed here, thou must be so: every wench;\n",
      "I would not grace this crown, and is for money am near,\n",
      "But break his study, and au with paltise drop is to\n",
      "bed;\n",
      "Where, how comestut we are, lord, a bard ado.\n",
      "\n",
      "ROMEO:\n",
      "What were they quite forget their worth stands.\n",
      "But touch'd, thou weep'st of damned stleets,\n",
      "When he hath done me with a damned splantage.\n",
      "\n",
      "HENRY BOLINGBROKE:\n",
      "These eyes made inquiry out! O, for his\n",
      "tarer,--\n",
      "\n",
      "First Senator:\n",
      "He'll bad first, then the world grward?\n",
      "\n",
      "ANGELO:\n",
      "I'll tell thee this: if he conve unto the Tower,\n",
      "'Tis dead to see your grace. But I be well.\n",
      "\n",
      "BAPTISTA:\n",
      "Now, by my man, I'll hange this: hear me, as thou art dance,\n",
      "Stand allays the youthis, to report\n",
      "White with him. Take him to leay unto list.\n",
      "\n",
      "ROMEO:\n",
      "Nay, but help thee!\n",
      "\n",
      "CLAUDIUS:\n",
      "Sweet rest, sir, advice\n",
      "In it therefore, let the love was never gear\n",
      "For his designs and well-sent--\n",
      "SICINIUS:\n",
      "Sir, it is your fair bell!\n",
      "\n",
      "GONZALO:\n",
      "Yea, sir, in him hand that may command, than marry her!\n",
      "\n",
      "DUCHESS OF YORK:\n",
      "Strike him, As if\n",
      "I heard him speak and another act.\n",
      "\n",
      "GLOUCESTER:\n",
      "As much afoir them. Ingratitude to go on;\n",
      "And thus most war's misfortune be well save a beast.\n",
      "Mower, I pray you, knocknateoo?\n",
      "Why should they be ready: the princess frozent and proud:\n",
      "And were they here some wounds with women's royal father is the governor; I am not\n",
      "Richard the King of heaven, that childre's head, the good queen's erg I to thee\n",
      "All my hand, for here thou wilt swear with our voices?\n",
      "\n",
      "Boatswaid: I will go with this peace,\n",
      "And made her secret peace with streaks the king,\n",
      "Shall be extill'd and take his sword: he,\n",
      "Your honours are set down this day doth recound.\n",
      "\n",
      "KING RICHARD III:\n",
      "Dost thou do?\n",
      "With all my heart is to be husband,\n",
      "The good point of the common bound.\n",
      "\n",
      "TRANIO:\n",
      "'Twill bring thee offer whfore should.\n",
      "\n",
      "GLOUCESTER:\n",
      "The tiding-day, to make merry wear before your grace.\n",
      "\n",
      "GLOUCESTER:\n",
      "\n",
      "CLARENCE:\n",
      "\n",
      "LUCENTIO:\n",
      "Twenty, fear, good news; and ne't not light.\n",
      "Kind sister, that sworn my conscience slay me,\n",
      "Take't up oble to thy grain.\n",
      "Your trises are set up by thr y flowers could enjoy; for 'tis my own disgressed and gloves.\n",
      "\n",
      "MOPSA:\n",
      "It shall be so, it is a happier and to hear\n",
      "Seen your our wonder, that made\n",
      "When he shall soon proceed\n",
      "They find about herself, off where it is taste.\n",
      "\n",
      "RIVERS:\n",
      "Is pale-faced blood than wretched Clare, cagewell.\n",
      "\n",
      "CORIOLANUS:\n",
      "What men y'd have done?\n",
      "\n",
      "VOLUMNIA:\n",
      "Prithee now you would be a disgrace\n",
      "found had a lover'd blood,\n",
      "To both of us some invention,\n",
      "rover'd and the sun of Grunkanding here\n",
      "For states, as pale as a your life,\n",
      "Will I mistrave beyond arishing be convey'd\n",
      "Show me? your hands, we have been decline.\n",
      "\n",
      "GLOUCESTER:\n",
      "What, myself upon the wrong. But can stir; alone,--\n",
      "\n",
      "She had,\n",
      "Too good, swit, and much often liege\n",
      "For such a feast of war dismal letters; but I\n",
      "have many those wife of all mischief\n",
      "With all the rest speech water with dearline state.\n",
      "I'll give no court-his helps of law,\n",
      "Strive awhile the blood as to, Barnardina.\n",
      "\n",
      "CORIOLANUS:\n",
      "O blessed had,\n",
      "That Hark on the wild-go vented my words.\n",
      "\n",
      "JULIET:\n",
      "Yon love a thou trembles med;\n",
      "For, by your leaves and exarll to her heavy, doubled at my heart,\n",
      "Having the heels--bo speak, where here's the king.\n",
      "\n",
      "PARIS:\n",
      "So did I, I'll both well enough.\n",
      "\n",
      "WARWICK:\n",
      "What are these lateful time plans their gates,\n",
      "Which would call him her fury of a cheerful of your grace,\n",
      "And craves no other vials part way:\n",
      "Yet have no unchast spirit that do ourselves\n",
      "We'll serve forth; for all these conclain'd\n",
      "with a little fronous ere I could sing.\n",
      "\n",
      "DUCHESS OF YORK:\n",
      "\n",
      "Havenier tempt a mind?\n",
      "\n",
      "WARWICK:\n",
      "Blood, I had ashosed he is:\n",
      "Better it in being advantage death, give dury amazed me,\n",
      "That will eit harmber it obsequious, and I\n",
      "Remain a piece of noble earl to great\n",
      "As to rejoice in scorn, for by the other,\n",
      "He shall not go for in an honest.\n",
      "Iffitch I have fought,\n",
      "By heaven, I will obey you fled.\n",
      "\n",
      "WARWICK:\n",
      "Thou art not expired, and go before and go aboard;\n",
      "The case is doubble to the earth, kneel'd,\n",
      "The wax's will restrain! Friar, poor good lord,\n",
      "When face we had; for, lords, the early voice\n",
      "With every got your grace to go to him:\n",
      "That longing with a tearing cause!\n",
      "\n",
      "LUCENTIO:\n",
      "Fair friend;\n",
      "You will be allowed in handran he's a traitor else;\n",
      "Take hee them doe: then were we are spoil:\n",
      "And in his poweratics and grief?\n",
      "O, he, is help,\n",
      "Lo, he is brake Bianca's blood. Adieu, a petting bones?\n",
      "\n",
      "PETER:\n",
      "Come, come, sir.\n",
      "My lord,\n",
      "He has but penitent time to speak,\n",
      "Too weeping age my wife; it did;\n",
      "And by his tongue,\n",
      "Lieve at bedims, which had before discharge,\n",
      "With hasty apart thence full prosperous army,\n",
      "Getch them weeping for your country: and his\n",
      "majesty did know me.\n",
      "\n",
      "Clown:\n",
      "We have ever loved the seat of war gawling women\n",
      "Are you into a hand on the earth, or more,\n",
      "'Tis true that open the danger: then let forthwith.\n",
      "\n",
      "BAPTISTA:\n",
      "I know not you in't. Our heads are ready and\n",
      "myself, I'll follow thee.\n",
      "\n",
      "Justice of your leader to her son.\n",
      "She eat, were hereditary hand.\n",
      "\n",
      "BAPTISTA:\n",
      "How likes I have poor Henry, and Warwick;\n",
      "Who not too mother, are thou of mire\n",
      "Once to the sight as you.\n",
      "\n",
      "LUCIO:\n",
      "Gentle my brother Rutcamber,\n",
      "And spit to be the better.\n",
      "\n",
      "GRUMIO:\n",
      "Leno Tranio here, to be happy\n",
      "Without our commandment than a winter in blood-fasting gentleman,\n",
      "Who any which dillorable things,\n",
      "Thou distingulan in his head, the gods duke hath small brooks the throats and chamber-a\n",
      "The waspred father of my master!\n",
      "\n",
      "Servant:\n",
      "We see, his lamentation,\n",
      "And led By the world by one. O, the games of York;\n",
      "For joyful for a few words.\n",
      "Good night.\n",
      "\n",
      "ROMEO:\n",
      "Whereding you have found?\n",
      "\n",
      "PETRUCHIO:\n",
      "Perhaps i' the boy-ely king of illa: welcome home,\n",
      "And think it benond not her brained from the least.\n",
      "\n",
      "CORIOLANUS:\n",
      "Ha! the rest shall be.\n",
      "\n",
      "ISABELLA:\n",
      "In your charity.\n",
      "\n",
      "CAPULET:\n",
      "Alas, poor Clarence! dissolute, if I stood by:\n",
      "These being perfect pilot's grand\n",
      "And charity or executoo for a her, if she be\n",
      "I came it that remove your voices?\n",
      "\n",
      "Third Citizen:\n",
      "Being bounted on his life, for, I am not afraid?\n",
      "\n",
      "Shepherd:\n",
      "Sir, how can he, as he does. My tyranny\n",
      "Terry in his goodness! he did bestroke again.\n",
      "\n",
      "ROMEO:\n",
      "Spit so.\n",
      "\n",
      "DUKE HENRY VI:\n",
      "Warwick marry Clarence; I must confer in the east.\n",
      "I would thou honourable begin hast,\n",
      "For Hortensio.\n",
      "\n",
      "GREMIO:\n",
      "Yes, beak thee from thy weeds,\n",
      "Sccond of God, the loss of aily tongue to keep inger a place.\n",
      "\n",
      "Lord\n"
     ]
    }
   ],
   "source": [
    "print(generate_text(model, start_string=u\"HAMLET: To be, or not to be: that is the question:\"))"
   ]
  },
  {
   "cell_type": "code",
   "execution_count": null,
   "id": "2aad4c11-721e-4868-a44c-53660a06ef21",
   "metadata": {},
   "outputs": [],
   "source": []
  }
 ],
 "metadata": {
  "kernelspec": {
   "display_name": "Python 3 (ipykernel)",
   "language": "python",
   "name": "python3"
  },
  "language_info": {
   "codemirror_mode": {
    "name": "ipython",
    "version": 3
   },
   "file_extension": ".py",
   "mimetype": "text/x-python",
   "name": "python",
   "nbconvert_exporter": "python",
   "pygments_lexer": "ipython3",
   "version": "3.9.18"
  }
 },
 "nbformat": 4,
 "nbformat_minor": 5
}
