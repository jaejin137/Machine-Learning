{
 "cells": [
  {
   "cell_type": "code",
   "execution_count": 1,
   "id": "880c392c-430d-44c4-ad77-1bed7fde65ec",
   "metadata": {},
   "outputs": [
    {
     "ename": "ImportError",
     "evalue": "cannot import name 'vgg_net' from 'keras_segmentation.models.unet' (/Users/jaejin/mambaforge/envs/tf/lib/python3.9/site-packages/keras_segmentation/models/unet.py)",
     "output_type": "error",
     "traceback": [
      "\u001b[0;31m---------------------------------------------------------------------------\u001b[0m",
      "\u001b[0;31mImportError\u001b[0m                               Traceback (most recent call last)",
      "Cell \u001b[0;32mIn[1], line 3\u001b[0m\n\u001b[1;32m      1\u001b[0m \u001b[38;5;66;03m#import tensorflow\u001b[39;00m\n\u001b[1;32m      2\u001b[0m \u001b[38;5;28;01mimport\u001b[39;00m \u001b[38;5;21;01mkeras_segmentation\u001b[39;00m\n\u001b[0;32m----> 3\u001b[0m \u001b[38;5;28;01mfrom\u001b[39;00m \u001b[38;5;21;01mkeras_segmentation\u001b[39;00m\u001b[38;5;21;01m.\u001b[39;00m\u001b[38;5;21;01mmodels\u001b[39;00m\u001b[38;5;21;01m.\u001b[39;00m\u001b[38;5;21;01munet\u001b[39;00m \u001b[38;5;28;01mimport\u001b[39;00m vgg_net\n",
      "\u001b[0;31mImportError\u001b[0m: cannot import name 'vgg_net' from 'keras_segmentation.models.unet' (/Users/jaejin/mambaforge/envs/tf/lib/python3.9/site-packages/keras_segmentation/models/unet.py)"
     ]
    }
   ],
   "source": [
    "#import tensorflow\n",
    "import keras_segmentation\n",
    "from keras_segmentation.models.unet import vgg_net"
   ]
  },
  {
   "cell_type": "markdown",
   "id": "282ccc0e-a58f-46dc-8b87-0499a076229e",
   "metadata": {},
   "source": [
    "### Model"
   ]
  },
  {
   "cell_type": "code",
   "execution_count": 2,
   "id": "49ea9585-9934-41a7-8da6-a5e88262595d",
   "metadata": {
    "scrolled": true
   },
   "outputs": [
    {
     "ename": "AttributeError",
     "evalue": "module 'keras_segmentation' has no attribute 'models'",
     "output_type": "error",
     "traceback": [
      "\u001b[0;31m---------------------------------------------------------------------------\u001b[0m",
      "\u001b[0;31mAttributeError\u001b[0m                            Traceback (most recent call last)",
      "Cell \u001b[0;32mIn[2], line 2\u001b[0m\n\u001b[1;32m      1\u001b[0m \u001b[38;5;66;03m#model = tensorflow.keras.applications.vgg16.VGG16(classes=1000, input_shape=(224, 224, 3))\u001b[39;00m\n\u001b[0;32m----> 2\u001b[0m model \u001b[38;5;241m=\u001b[39m \u001b[43mkeras_segmentation\u001b[49m\u001b[38;5;241;43m.\u001b[39;49m\u001b[43mmodels\u001b[49m\u001b[38;5;241m.\u001b[39munet\u001b[38;5;241m.\u001b[39mvgg_unet(n_classes\u001b[38;5;241m=\u001b[39m\u001b[38;5;241m51\u001b[39m,\n\u001b[1;32m      3\u001b[0m                                                 input_height\u001b[38;5;241m=\u001b[39m\u001b[38;5;241m416\u001b[39m,\n\u001b[1;32m      4\u001b[0m                                                 input_width\u001b[38;5;241m=\u001b[39m\u001b[38;5;241m608\u001b[39m)\n",
      "\u001b[0;31mAttributeError\u001b[0m: module 'keras_segmentation' has no attribute 'models'"
     ]
    }
   ],
   "source": [
    "#model = tensorflow.keras.applications.vgg16.VGG16(classes=1000, input_shape=(224, 224, 3))\n",
    "model = keras_segmentation.pretrained models.unet.vgg_unet(n_classes=51,\n",
    "                                                input_height=416,\n",
    "                                                input_width=608)"
   ]
  },
  {
   "cell_type": "markdown",
   "id": "fd6820a7-1ce5-4a4b-90d2-ec153be7f69f",
   "metadata": {},
   "source": [
    "### Train model"
   ]
  },
  {
   "cell_type": "code",
   "execution_count": null,
   "id": "12242b50-f885-46d3-8199-371699765397",
   "metadata": {},
   "outputs": [],
   "source": [
    "model.train"
   ]
  }
 ],
 "metadata": {
  "kernelspec": {
   "display_name": "Python 3 (ipykernel)",
   "language": "python",
   "name": "python3"
  },
  "language_info": {
   "codemirror_mode": {
    "name": "ipython",
    "version": 3
   },
   "file_extension": ".py",
   "mimetype": "text/x-python",
   "name": "python",
   "nbconvert_exporter": "python",
   "pygments_lexer": "ipython3",
   "version": "3.9.18"
  }
 },
 "nbformat": 4,
 "nbformat_minor": 5
}
