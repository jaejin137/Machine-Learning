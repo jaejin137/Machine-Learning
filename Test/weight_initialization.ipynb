{
 "cells": [
  {
   "cell_type": "code",
   "execution_count": 2,
   "id": "657e3b69-3d36-48f8-9d8b-86f37f448156",
   "metadata": {},
   "outputs": [],
   "source": [
    "import numpy as np\n",
    "import matplotlib.pyplot as plt\n",
    "\n",
    "from tensorflow.keras import Sequential\n",
    "from tensorflow.keras.layers import Dense, Activation\n",
    "from tensorflow.keras.initializers import Zeros, RandomNormal, glorot_normal, glorot_uniform"
   ]
  },
  {
   "cell_type": "code",
   "execution_count": 3,
   "id": "0edcb0f0-2338-4ac8-9ba0-e0d301796ee3",
   "metadata": {},
   "outputs": [],
   "source": [
    "n_input = 784\n",
    "n_dense = 256"
   ]
  },
  {
   "cell_type": "markdown",
   "id": "1545a9e1-7068-4671-8545-51fa88cde069",
   "metadata": {},
   "source": [
    "### initialize biases"
   ]
  },
  {
   "cell_type": "code",
   "execution_count": 4,
   "id": "c213ecfa-c734-4211-9bf6-735e2004130f",
   "metadata": {},
   "outputs": [],
   "source": [
    "b_init = Zeros()"
   ]
  },
  {
   "cell_type": "markdown",
   "id": "c5004f25-02d6-426c-8d50-fc7865b50ac7",
   "metadata": {},
   "source": [
    "### initialize weights"
   ]
  },
  {
   "cell_type": "code",
   "execution_count": 38,
   "id": "7157afce-2aa1-4f1f-8fed-8a8e05729052",
   "metadata": {},
   "outputs": [],
   "source": [
    "# w_init = RandomNormal(stddev=1.0)\n",
    "w_init = glorot_normal\n",
    "# w_init = glorot_uniform"
   ]
  },
  {
   "cell_type": "markdown",
   "id": "1829c6ad-41c7-4d58-9f53-a1df5990949f",
   "metadata": {},
   "source": [
    "### design neural network"
   ]
  },
  {
   "cell_type": "code",
   "execution_count": 44,
   "id": "c7fe8d7b-5cf5-4023-bc0d-f3a3baa5bee2",
   "metadata": {},
   "outputs": [],
   "source": [
    "model = Sequential()\n",
    "\n",
    "model.add(Dense(n_dense,\n",
    "                input_dim=n_input,\n",
    "                kernel_initializer=w_init,\n",
    "                bias_initializer=b_init))\n",
    "\n",
    "# model.add(Activation('sigmoid'))\n",
    "# model.add(Activation('tanh'))\n",
    "model.add(Activation('relu'))"
   ]
  },
  {
   "cell_type": "code",
   "execution_count": 45,
   "id": "deb02413-42b2-430f-8edf-72330dfba23c",
   "metadata": {},
   "outputs": [],
   "source": [
    "x = np.random.random((1, n_input))"
   ]
  },
  {
   "cell_type": "code",
   "execution_count": 46,
   "id": "9e31f717-199c-4db9-a59e-b15ca588acb5",
   "metadata": {},
   "outputs": [
    {
     "name": "stdout",
     "output_type": "stream",
     "text": [
      "1/1 [==============================] - 0s 51ms/step\n"
     ]
    }
   ],
   "source": [
    "a = model.predict(x)"
   ]
  },
  {
   "cell_type": "code",
   "execution_count": 47,
   "id": "3c3012b1-0e3d-44f3-b9cb-fb005531206c",
   "metadata": {},
   "outputs": [
    {
     "data": {
      "text/plain": [
       "array([[1.6762285 , 0.        , 0.2186227 , 0.        , 0.11974743,\n",
       "        0.        , 0.        , 0.        , 0.30858052, 0.60971045,\n",
       "        0.        , 0.05937088, 0.13456362, 0.        , 0.4722957 ,\n",
       "        0.        , 0.        , 0.        , 0.        , 0.        ,\n",
       "        0.70108616, 1.2392738 , 0.719238  , 0.8604561 , 0.        ,\n",
       "        0.        , 0.03277868, 0.        , 0.        , 0.        ,\n",
       "        0.        , 0.23738176, 0.6105387 , 0.60957444, 0.        ,\n",
       "        0.03016485, 0.        , 0.        , 0.        , 0.06374438,\n",
       "        0.        , 0.        , 0.7020197 , 0.        , 0.7135171 ,\n",
       "        0.        , 0.        , 0.        , 0.        , 0.3492046 ,\n",
       "        0.6538669 , 0.        , 0.39652538, 0.        , 0.        ,\n",
       "        1.109721  , 0.28936386, 0.        , 0.        , 0.04715604,\n",
       "        0.        , 1.2229376 , 0.10048048, 0.        , 0.        ,\n",
       "        0.322248  , 0.        , 0.        , 0.        , 0.        ,\n",
       "        0.96890986, 0.        , 0.        , 0.23219809, 0.        ,\n",
       "        0.16500324, 0.61868143, 0.        , 0.        , 0.5983089 ,\n",
       "        0.        , 0.16812944, 0.2071161 , 0.9029299 , 0.        ,\n",
       "        0.96130574, 0.6577727 , 0.        , 1.3259454 , 0.        ,\n",
       "        0.        , 0.        , 1.1995096 , 0.        , 0.        ,\n",
       "        0.        , 0.7787682 , 0.170302  , 0.17139375, 0.        ,\n",
       "        0.07151029, 0.        , 0.        , 0.        , 0.24415481,\n",
       "        1.1864216 , 0.        , 0.        , 0.        , 0.        ,\n",
       "        0.        , 0.6143172 , 0.37942436, 0.        , 0.        ,\n",
       "        0.38367566, 0.2765352 , 1.3505344 , 0.69448394, 0.60980535,\n",
       "        0.95691365, 0.14080936, 0.        , 0.29164296, 0.        ,\n",
       "        0.6370868 , 0.2855274 , 0.        , 0.4439323 , 0.        ,\n",
       "        0.        , 1.5766549 , 0.4054167 , 0.        , 1.6430213 ,\n",
       "        0.        , 0.        , 0.47023314, 0.617515  , 0.4147116 ,\n",
       "        0.23505178, 0.3543098 , 0.        , 0.93980116, 0.0708655 ,\n",
       "        0.        , 0.        , 0.        , 0.23716104, 0.        ,\n",
       "        0.        , 0.74557614, 0.        , 0.        , 1.2138143 ,\n",
       "        0.        , 0.        , 0.2051397 , 0.        , 0.17698088,\n",
       "        0.70350003, 0.3030389 , 0.17494856, 0.09866446, 0.09459418,\n",
       "        0.        , 0.16565582, 0.        , 0.        , 0.68799716,\n",
       "        0.        , 0.        , 0.863989  , 0.        , 1.0394751 ,\n",
       "        0.        , 0.        , 0.        , 0.5005053 , 0.26315612,\n",
       "        0.        , 0.        , 0.        , 0.        , 0.        ,\n",
       "        0.        , 0.        , 0.        , 0.44149667, 0.        ,\n",
       "        0.20585527, 0.2946477 , 0.        , 0.        , 0.        ,\n",
       "        0.03368223, 0.16878647, 0.        , 0.        , 0.5760393 ,\n",
       "        0.        , 0.        , 0.32423055, 0.32586554, 0.        ,\n",
       "        0.        , 0.4544701 , 0.71018773, 0.38779587, 0.01563612,\n",
       "        0.        , 0.        , 0.        , 0.        , 0.        ,\n",
       "        1.2669289 , 0.        , 0.        , 0.5859674 , 0.16339558,\n",
       "        0.14271404, 0.7402436 , 0.        , 0.        , 0.        ,\n",
       "        0.        , 0.        , 0.        , 0.        , 0.27598447,\n",
       "        0.8226137 , 0.        , 0.        , 0.09294164, 0.22100124,\n",
       "        0.        , 0.        , 0.        , 0.        , 0.        ,\n",
       "        0.        , 0.        , 0.        , 1.0650544 , 0.        ,\n",
       "        0.5487292 , 0.        , 0.        , 0.        , 0.        ,\n",
       "        1.4192746 , 0.        , 0.85005116, 0.        , 0.31007978,\n",
       "        0.7218379 ]], dtype=float32)"
      ]
     },
     "execution_count": 47,
     "metadata": {},
     "output_type": "execute_result"
    }
   ],
   "source": [
    "a"
   ]
  },
  {
   "cell_type": "code",
   "execution_count": 48,
   "id": "154ec7c7-55da-4bc8-8eea-486de08f27d0",
   "metadata": {},
   "outputs": [
    {
     "data": {
      "image/png": "[encoded data removed]",
      "text/plain": [
       "<Figure size 640x480 with 1 Axes>"
      ]
     },
     "metadata": {},
     "output_type": "display_data"
    }
   ],
   "source": [
    "_ = plt.hist(np.transpose(a))"
   ]
  },
  {
   "cell_type": "code",
   "execution_count": null,
   "id": "6b069dd8-cd08-43f1-857a-1de3ff832434",
   "metadata": {},
   "outputs": [],
   "source": []
  }
 ],
 "metadata": {
  "kernelspec": {
   "display_name": "Python 3 (ipykernel)",
   "language": "python",
   "name": "python3"
  },
  "language_info": {
   "codemirror_mode": {
    "name": "ipython",
    "version": 3
   },
   "file_extension": ".py",
   "mimetype": "text/x-python",
   "name": "python",
   "nbconvert_exporter": "python",
   "pygments_lexer": "ipython3",
   "version": "3.9.18"
  }
 },
 "nbformat": 4,
 "nbformat_minor": 5
}
