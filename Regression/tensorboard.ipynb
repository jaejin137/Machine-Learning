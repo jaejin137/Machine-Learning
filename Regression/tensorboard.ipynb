{
 "cells": [
  {
   "cell_type": "code",
   "execution_count": 1,
   "id": "67a6d91f-e938-45b8-a582-77a01854f15a",
   "metadata": {},
   "outputs": [],
   "source": [
    "import numpy as np\n",
    "import tensorflow\n",
    "from tensorflow.keras.datasets import boston_housing\n",
    "from tensorflow.keras.models import Sequential\n",
    "from tensorflow.keras.layers import Dense, BatchNormalization, Dropout\n",
    "from tensorflow.keras.callbacks import ModelCheckpoint, TensorBoard\n",
    "import os"
   ]
  },
  {
   "cell_type": "code",
   "execution_count": 2,
   "id": "26a5e3d1-b5b0-4dc4-8317-e2e9b81d033d",
   "metadata": {},
   "outputs": [],
   "source": [
    "(X_train, y_train), (X_valid, y_valid) = boston_housing.load_data()"
   ]
  },
  {
   "cell_type": "code",
   "execution_count": 3,
   "id": "40db9be7-dcbb-4bf0-839e-023cfd1ca06b",
   "metadata": {},
   "outputs": [
    {
     "data": {
      "text/plain": [
       "(404, 13)"
      ]
     },
     "execution_count": 3,
     "metadata": {},
     "output_type": "execute_result"
    }
   ],
   "source": [
    "X_train.shape"
   ]
  },
  {
   "cell_type": "code",
   "execution_count": 4,
   "id": "59503735-fec0-4682-8353-c7b39378dcf5",
   "metadata": {},
   "outputs": [
    {
     "data": {
      "text/plain": [
       "(102, 13)"
      ]
     },
     "execution_count": 4,
     "metadata": {},
     "output_type": "execute_result"
    }
   ],
   "source": [
    "X_valid.shape"
   ]
  },
  {
   "cell_type": "markdown",
   "id": "e528faf1-a0ee-4569-ad84-db1526671159",
   "metadata": {},
   "source": [
    "### design neural network"
   ]
  },
  {
   "cell_type": "code",
   "execution_count": 28,
   "id": "34506ba9-0164-4c33-9a42-cf27b743d627",
   "metadata": {},
   "outputs": [],
   "source": [
    "model = Sequential()\n",
    "\n",
    "# first hidden layer\n",
    "model.add(Dense(32, activation='relu', input_dim=13))\n",
    "model.add(BatchNormalization())\n",
    "\n",
    "# second hidden layer\n",
    "model.add(Dense(16, activation='relu'))\n",
    "model.add(BatchNormalization())\n",
    "# model.add(Dropout(0.2))\n",
    "model.add(Dropout(0.5))\n",
    "\n",
    "# output layer\n",
    "model.add(Dense(1, activation='linear'))"
   ]
  },
  {
   "cell_type": "code",
   "execution_count": 29,
   "id": "e9170dd4-9db4-49f3-b5f7-e4602182e7e2",
   "metadata": {},
   "outputs": [
    {
     "name": "stdout",
     "output_type": "stream",
     "text": [
      "Model: \"sequential_1\"\n",
      "_________________________________________________________________\n",
      " Layer (type)                Output Shape              Param #   \n",
      "=================================================================\n",
      " dense_3 (Dense)             (None, 32)                448       \n",
      "                                                                 \n",
      " batch_normalization_2 (Bat  (None, 32)                128       \n",
      " chNormalization)                                                \n",
      "                                                                 \n",
      " dense_4 (Dense)             (None, 16)                528       \n",
      "                                                                 \n",
      " batch_normalization_3 (Bat  (None, 16)                64        \n",
      " chNormalization)                                                \n",
      "                                                                 \n",
      " dropout_1 (Dropout)         (None, 16)                0         \n",
      "                                                                 \n",
      " dense_5 (Dense)             (None, 1)                 17        \n",
      "                                                                 \n",
      "=================================================================\n",
      "Total params: 1185 (4.63 KB)\n",
      "Trainable params: 1089 (4.25 KB)\n",
      "Non-trainable params: 96 (384.00 Byte)\n",
      "_________________________________________________________________\n"
     ]
    }
   ],
   "source": [
    "model.summary()"
   ]
  },
  {
   "cell_type": "code",
   "execution_count": 30,
   "id": "cddd0b07-97e9-40f2-bd6a-0118e2b3dfa0",
   "metadata": {},
   "outputs": [],
   "source": [
    "model.compile(loss='mean_squared_error', optimizer='adam')"
   ]
  },
  {
   "cell_type": "code",
   "execution_count": 31,
   "id": "537fc295-4e27-4d25-91a8-39f8c526ee49",
   "metadata": {},
   "outputs": [],
   "source": [
    "output_dir = 'model_output/'"
   ]
  },
  {
   "cell_type": "code",
   "execution_count": 32,
   "id": "d0912ece-ccd2-4582-88de-7807291bd8dc",
   "metadata": {},
   "outputs": [],
   "source": [
    "# run_name = 'regression_baseline'\n",
    "run_name = 'regression_drop50'\n",
    "output_path = output_dir + run_name"
   ]
  },
  {
   "cell_type": "code",
   "execution_count": 33,
   "id": "fcdbff84-d4b9-448f-9fa9-a78f3e30bcef",
   "metadata": {},
   "outputs": [],
   "source": [
    "if not os.path.exists(output_path):\n",
    "    os.makedirs(output_path)"
   ]
  },
  {
   "cell_type": "code",
   "execution_count": 34,
   "id": "af1cc525-d7c8-4a88-bdf8-2a69226895da",
   "metadata": {},
   "outputs": [],
   "source": [
    "modelcheckpoint = ModelCheckpoint(output_path + '/weights.{epoch:02d}.hdf5',\n",
    "                                  save_weights_only=True)"
   ]
  },
  {
   "cell_type": "code",
   "execution_count": 35,
   "id": "fb5ba529-158b-4dfb-8c41-e929a63c4782",
   "metadata": {},
   "outputs": [],
   "source": [
    "tensorboard = TensorBoard(log_dir='logs/' + run_name)"
   ]
  },
  {
   "cell_type": "code",
   "execution_count": 36,
   "id": "67ae407d-0563-4704-86d9-666450bb9486",
   "metadata": {},
   "outputs": [
    {
     "name": "stdout",
     "output_type": "stream",
     "text": [
      "Epoch 1/32\n",
      "51/51 [==============================] - 1s 14ms/step - loss: 582.4567 - val_loss: 618.3577\n",
      "Epoch 2/32\n",
      "51/51 [==============================] - 0s 9ms/step - loss: 560.2159 - val_loss: 613.3626\n",
      "Epoch 3/32\n",
      "51/51 [==============================] - 0s 9ms/step - loss: 546.6984 - val_loss: 590.7464\n",
      "Epoch 4/32\n",
      "51/51 [==============================] - 0s 9ms/step - loss: 523.9761 - val_loss: 555.1495\n",
      "Epoch 5/32\n",
      "51/51 [==============================] - 0s 9ms/step - loss: 505.3475 - val_loss: 532.7352\n",
      "Epoch 6/32\n",
      "51/51 [==============================] - 0s 9ms/step - loss: 485.0393 - val_loss: 504.3855\n",
      "Epoch 7/32\n",
      "51/51 [==============================] - 0s 9ms/step - loss: 463.2308 - val_loss: 479.3483\n",
      "Epoch 8/32\n",
      "51/51 [==============================] - 0s 9ms/step - loss: 434.8312 - val_loss: 440.5179\n",
      "Epoch 9/32\n",
      "51/51 [==============================] - 1s 11ms/step - loss: 402.8266 - val_loss: 402.9354\n",
      "Epoch 10/32\n",
      "51/51 [==============================] - 0s 10ms/step - loss: 363.1746 - val_loss: 362.9717\n",
      "Epoch 11/32\n",
      "51/51 [==============================] - 0s 9ms/step - loss: 332.6961 - val_loss: 318.1867\n",
      "Epoch 12/32\n",
      "51/51 [==============================] - 0s 9ms/step - loss: 294.2027 - val_loss: 306.1758\n",
      "Epoch 13/32\n",
      "51/51 [==============================] - 0s 9ms/step - loss: 270.0870 - val_loss: 256.4104\n",
      "Epoch 14/32\n",
      "51/51 [==============================] - 0s 9ms/step - loss: 237.2317 - val_loss: 243.0394\n",
      "Epoch 15/32\n",
      "51/51 [==============================] - 0s 9ms/step - loss: 206.6811 - val_loss: 199.1029\n",
      "Epoch 16/32\n",
      "51/51 [==============================] - 0s 9ms/step - loss: 169.8702 - val_loss: 177.6315\n",
      "Epoch 17/32\n",
      "51/51 [==============================] - 0s 9ms/step - loss: 144.1876 - val_loss: 154.8620\n",
      "Epoch 18/32\n",
      "51/51 [==============================] - 0s 9ms/step - loss: 135.8116 - val_loss: 151.9722\n",
      "Epoch 19/32\n",
      "51/51 [==============================] - 0s 9ms/step - loss: 108.6396 - val_loss: 156.1347\n",
      "Epoch 20/32\n",
      "51/51 [==============================] - 0s 9ms/step - loss: 94.8531 - val_loss: 112.3135\n",
      "Epoch 21/32\n",
      "51/51 [==============================] - 0s 9ms/step - loss: 81.0655 - val_loss: 81.4807\n",
      "Epoch 22/32\n",
      "51/51 [==============================] - 0s 9ms/step - loss: 80.3558 - val_loss: 83.8662\n",
      "Epoch 23/32\n",
      "51/51 [==============================] - 0s 9ms/step - loss: 68.2502 - val_loss: 53.0091\n",
      "Epoch 24/32\n",
      "51/51 [==============================] - 0s 9ms/step - loss: 64.1949 - val_loss: 51.7391\n",
      "Epoch 25/32\n",
      "51/51 [==============================] - 0s 9ms/step - loss: 65.5810 - val_loss: 37.7404\n",
      "Epoch 26/32\n",
      "51/51 [==============================] - 0s 9ms/step - loss: 57.4626 - val_loss: 38.9446\n",
      "Epoch 27/32\n",
      "51/51 [==============================] - 0s 9ms/step - loss: 56.5887 - val_loss: 33.6903\n",
      "Epoch 28/32\n",
      "51/51 [==============================] - 0s 9ms/step - loss: 56.1224 - val_loss: 38.2256\n",
      "Epoch 29/32\n",
      "51/51 [==============================] - 0s 9ms/step - loss: 54.0153 - val_loss: 38.1085\n",
      "Epoch 30/32\n",
      "51/51 [==============================] - 0s 9ms/step - loss: 57.8839 - val_loss: 41.6109\n",
      "Epoch 31/32\n",
      "51/51 [==============================] - 0s 9ms/step - loss: 57.0260 - val_loss: 34.9053\n",
      "Epoch 32/32\n",
      "51/51 [==============================] - 0s 9ms/step - loss: 53.4511 - val_loss: 32.2705\n"
     ]
    },
    {
     "data": {
      "text/plain": [
       "<keras.src.callbacks.History at 0x2a1ded910>"
      ]
     },
     "execution_count": 36,
     "metadata": {},
     "output_type": "execute_result"
    }
   ],
   "source": [
    "model.fit(X_train, y_train, batch_size=8, epochs=32, verbose=1,\n",
    "          validation_data=(X_valid, y_valid),\n",
    "          callbacks=[modelcheckpoint, tensorboard])"
   ]
  },
  {
   "cell_type": "code",
   "execution_count": null,
   "id": "f7c87b4f-5e8f-44bf-8741-919e5b6143fc",
   "metadata": {},
   "outputs": [],
   "source": []
  }
 ],
 "metadata": {
  "kernelspec": {
   "display_name": "Python 3 (ipykernel)",
   "language": "python",
   "name": "python3"
  },
  "language_info": {
   "codemirror_mode": {
    "name": "ipython",
    "version": 3
   },
   "file_extension": ".py",
   "mimetype": "text/x-python",
   "name": "python",
   "nbconvert_exporter": "python",
   "pygments_lexer": "ipython3",
   "version": "3.9.18"
  }
 },
 "nbformat": 4,
 "nbformat_minor": 5
}
