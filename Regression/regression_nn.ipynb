{
 "cells": [
  {
   "cell_type": "code",
   "execution_count": 23,
   "id": "29d013e0-ec3d-4942-94c1-8809b5f48bf6",
   "metadata": {},
   "outputs": [],
   "source": [
    "import tensorflow\n",
    "from tensorflow.keras.datasets import boston_housing\n",
    "from tensorflow.keras.models import Sequential\n",
    "from tensorflow.keras.layers import Dense, BatchNormalization, Dropout\n",
    "from tensorflow.keras.callbacks import ModelCheckpoint\n",
    "import os\n",
    "import numpy as np"
   ]
  },
  {
   "cell_type": "code",
   "execution_count": 3,
   "id": "cec44086-d337-4bd7-9854-797aedd7de58",
   "metadata": {},
   "outputs": [
    {
     "name": "stdout",
     "output_type": "stream",
     "text": [
      "Downloading data from https://storage.googleapis.com/tensorflow/tf-keras-datasets/boston_housing.npz\n",
      "57026/57026 [==============================] - 0s 1us/step\n"
     ]
    }
   ],
   "source": [
    "(X_train, y_train), (X_valid, y_valid) = boston_housing.load_data()"
   ]
  },
  {
   "cell_type": "code",
   "execution_count": 4,
   "id": "f43718db-0a30-4ad6-b9df-0a5b263a8b44",
   "metadata": {},
   "outputs": [
    {
     "data": {
      "text/plain": [
       "(404, 13)"
      ]
     },
     "execution_count": 4,
     "metadata": {},
     "output_type": "execute_result"
    }
   ],
   "source": [
    "X_train.shape"
   ]
  },
  {
   "cell_type": "code",
   "execution_count": 5,
   "id": "7f6e8930-77f5-4efd-8606-0ba05c4712fb",
   "metadata": {},
   "outputs": [
    {
     "data": {
      "text/plain": [
       "(102, 13)"
      ]
     },
     "execution_count": 5,
     "metadata": {},
     "output_type": "execute_result"
    }
   ],
   "source": [
    "X_valid.shape"
   ]
  },
  {
   "cell_type": "code",
   "execution_count": 6,
   "id": "b63dc164-1a2c-4f14-aca5-d21805dd3932",
   "metadata": {},
   "outputs": [
    {
     "data": {
      "text/plain": [
       "array([  1.23247,   0.     ,   8.14   ,   0.     ,   0.538  ,   6.142  ,\n",
       "        91.7    ,   3.9769 ,   4.     , 307.     ,  21.     , 396.9    ,\n",
       "        18.72   ])"
      ]
     },
     "execution_count": 6,
     "metadata": {},
     "output_type": "execute_result"
    }
   ],
   "source": [
    "X_train[0]"
   ]
  },
  {
   "cell_type": "code",
   "execution_count": 7,
   "id": "089f8fe4-a978-4b31-a1cf-77d316095894",
   "metadata": {},
   "outputs": [
    {
     "data": {
      "text/plain": [
       "15.2"
      ]
     },
     "execution_count": 7,
     "metadata": {},
     "output_type": "execute_result"
    }
   ],
   "source": [
    "y_train[0]"
   ]
  },
  {
   "cell_type": "markdown",
   "id": "be47f710-f62a-4365-b453-06b3a6c5501b",
   "metadata": {},
   "source": [
    "### design neural network"
   ]
  },
  {
   "cell_type": "code",
   "execution_count": 8,
   "id": "0790fc4b-4b73-45d6-949b-404ebb7c3b0b",
   "metadata": {},
   "outputs": [
    {
     "name": "stderr",
     "output_type": "stream",
     "text": [
      "2024-03-01 12:01:06.617085: I metal_plugin/src/device/metal_device.cc:1154] Metal device set to: Apple M2 Max\n",
      "2024-03-01 12:01:06.617126: I metal_plugin/src/device/metal_device.cc:296] systemMemory: 96.00 GB\n",
      "2024-03-01 12:01:06.617136: I metal_plugin/src/device/metal_device.cc:313] maxCacheSize: 36.00 GB\n",
      "2024-03-01 12:01:06.617187: I tensorflow/core/common_runtime/pluggable_device/pluggable_device_factory.cc:306] Could not identify NUMA node of platform GPU ID 0, defaulting to 0. Your kernel may not have been built with NUMA support.\n",
      "2024-03-01 12:01:06.617213: I tensorflow/core/common_runtime/pluggable_device/pluggable_device_factory.cc:272] Created TensorFlow device (/job:localhost/replica:0/task:0/device:GPU:0 with 0 MB memory) -> physical PluggableDevice (device: 0, name: METAL, pci bus id: <undefined>)\n"
     ]
    }
   ],
   "source": [
    "model = Sequential()\n",
    "\n",
    "# first hidden layer\n",
    "model.add(Dense(32, activation='relu', input_dim=13))\n",
    "model.add(BatchNormalization())\n",
    "\n",
    "# second hidden layer\n",
    "model.add(Dense(16, activation='relu'))\n",
    "model.add(BatchNormalization())\n",
    "model.add(Dropout(0.2))\n",
    "\n",
    "# output layer\n",
    "model.add(Dense(1, activation='linear'))"
   ]
  },
  {
   "cell_type": "code",
   "execution_count": 9,
   "id": "027528ac-c7be-452b-96fd-5b5b42a27740",
   "metadata": {},
   "outputs": [
    {
     "name": "stdout",
     "output_type": "stream",
     "text": [
      "Model: \"sequential\"\n",
      "_________________________________________________________________\n",
      " Layer (type)                Output Shape              Param #   \n",
      "=================================================================\n",
      " dense (Dense)               (None, 32)                448       \n",
      "                                                                 \n",
      " batch_normalization (Batch  (None, 32)                128       \n",
      " Normalization)                                                  \n",
      "                                                                 \n",
      " dense_1 (Dense)             (None, 16)                528       \n",
      "                                                                 \n",
      " batch_normalization_1 (Bat  (None, 16)                64        \n",
      " chNormalization)                                                \n",
      "                                                                 \n",
      " dropout (Dropout)           (None, 16)                0         \n",
      "                                                                 \n",
      " dense_2 (Dense)             (None, 1)                 17        \n",
      "                                                                 \n",
      "=================================================================\n",
      "Total params: 1185 (4.63 KB)\n",
      "Trainable params: 1089 (4.25 KB)\n",
      "Non-trainable params: 96 (384.00 Byte)\n",
      "_________________________________________________________________\n"
     ]
    }
   ],
   "source": [
    "model.summary()"
   ]
  },
  {
   "cell_type": "code",
   "execution_count": 10,
   "id": "3d010496-ca5a-45b1-bf5b-3bbfb6c0a9c7",
   "metadata": {},
   "outputs": [],
   "source": [
    "model.compile(loss='mean_squared_error', optimizer='nadam')"
   ]
  },
  {
   "cell_type": "code",
   "execution_count": 13,
   "id": "fa538538-5a13-4ff9-8077-c1c82f40b71a",
   "metadata": {},
   "outputs": [],
   "source": [
    "output_dir = 'model_output/'"
   ]
  },
  {
   "cell_type": "code",
   "execution_count": 14,
   "id": "d8387c9f-0593-4462-b4a2-ad256bd13b09",
   "metadata": {},
   "outputs": [],
   "source": [
    "run_name = 'regression_baseline'\n",
    "output_path = output_dir + run_name"
   ]
  },
  {
   "cell_type": "code",
   "execution_count": 15,
   "id": "18f93c36-413d-440b-b6ac-1e46923f91a2",
   "metadata": {},
   "outputs": [],
   "source": [
    "if not os.path.exists(output_path):\n",
    "    os.makedirs(output_path)"
   ]
  },
  {
   "cell_type": "code",
   "execution_count": 16,
   "id": "33a0565f-5511-4a3a-8ebf-4ab534f3fc57",
   "metadata": {},
   "outputs": [],
   "source": [
    "modelcheckpoint = ModelCheckpoint(output_path + '/weights.{epoch:02d}.hdf5',\n",
    "                                  save_weights_only=True)"
   ]
  },
  {
   "cell_type": "code",
   "execution_count": 18,
   "id": "9af0849d-29a6-420e-814e-f21b939c6e02",
   "metadata": {},
   "outputs": [
    {
     "name": "stdout",
     "output_type": "stream",
     "text": [
      "Epoch 1/32\n",
      "51/51 [==============================] - 1s 16ms/step - loss: 553.1384 - val_loss: 540.1693\n",
      "Epoch 2/32\n",
      "51/51 [==============================] - 1s 16ms/step - loss: 530.5635 - val_loss: 531.1677\n",
      "Epoch 3/32\n",
      "51/51 [==============================] - 1s 16ms/step - loss: 509.0949 - val_loss: 495.7732\n",
      "Epoch 4/32\n",
      "51/51 [==============================] - 1s 16ms/step - loss: 480.5261 - val_loss: 457.2907\n",
      "Epoch 5/32\n",
      "51/51 [==============================] - 1s 17ms/step - loss: 452.2103 - val_loss: 424.5210\n",
      "Epoch 6/32\n",
      "51/51 [==============================] - 1s 17ms/step - loss: 416.9475 - val_loss: 406.9420\n",
      "Epoch 7/32\n",
      "51/51 [==============================] - 1s 17ms/step - loss: 376.4994 - val_loss: 334.1323\n",
      "Epoch 8/32\n",
      "51/51 [==============================] - 1s 17ms/step - loss: 336.3553 - val_loss: 312.0218\n",
      "Epoch 9/32\n",
      "51/51 [==============================] - 1s 16ms/step - loss: 293.1531 - val_loss: 262.2107\n",
      "Epoch 10/32\n",
      "51/51 [==============================] - 1s 16ms/step - loss: 251.5106 - val_loss: 226.8889\n",
      "Epoch 11/32\n",
      "51/51 [==============================] - 1s 16ms/step - loss: 211.5776 - val_loss: 189.1946\n",
      "Epoch 12/32\n",
      "51/51 [==============================] - 1s 16ms/step - loss: 178.6377 - val_loss: 127.0350\n",
      "Epoch 13/32\n",
      "51/51 [==============================] - 1s 16ms/step - loss: 146.1845 - val_loss: 109.3591\n",
      "Epoch 14/32\n",
      "51/51 [==============================] - 1s 16ms/step - loss: 122.8791 - val_loss: 109.7233\n",
      "Epoch 15/32\n",
      "51/51 [==============================] - 1s 16ms/step - loss: 96.6619 - val_loss: 100.8032\n",
      "Epoch 16/32\n",
      "51/51 [==============================] - 1s 16ms/step - loss: 83.5969 - val_loss: 69.8368\n",
      "Epoch 17/32\n",
      "51/51 [==============================] - 1s 15ms/step - loss: 68.9634 - val_loss: 65.0708\n",
      "Epoch 18/32\n",
      "51/51 [==============================] - 1s 15ms/step - loss: 65.0156 - val_loss: 57.9792\n",
      "Epoch 19/32\n",
      "51/51 [==============================] - 1s 15ms/step - loss: 58.6333 - val_loss: 40.3583\n",
      "Epoch 20/32\n",
      "51/51 [==============================] - 1s 16ms/step - loss: 54.8643 - val_loss: 52.7374\n",
      "Epoch 21/32\n",
      "51/51 [==============================] - 1s 16ms/step - loss: 49.3550 - val_loss: 33.0635\n",
      "Epoch 22/32\n",
      "51/51 [==============================] - 1s 17ms/step - loss: 41.4218 - val_loss: 25.0017\n",
      "Epoch 23/32\n",
      "51/51 [==============================] - 1s 16ms/step - loss: 43.8987 - val_loss: 35.2422\n",
      "Epoch 24/32\n",
      "51/51 [==============================] - 1s 16ms/step - loss: 43.7754 - val_loss: 26.4206\n",
      "Epoch 25/32\n",
      "51/51 [==============================] - 1s 15ms/step - loss: 46.7340 - val_loss: 35.8664\n",
      "Epoch 26/32\n",
      "51/51 [==============================] - 1s 16ms/step - loss: 42.0142 - val_loss: 32.2324\n",
      "Epoch 27/32\n",
      "51/51 [==============================] - 1s 15ms/step - loss: 42.0615 - val_loss: 27.1722\n",
      "Epoch 28/32\n",
      "51/51 [==============================] - 1s 16ms/step - loss: 43.7150 - val_loss: 26.2536\n",
      "Epoch 29/32\n",
      "51/51 [==============================] - 1s 16ms/step - loss: 40.6547 - val_loss: 26.6768\n",
      "Epoch 30/32\n",
      "51/51 [==============================] - 1s 16ms/step - loss: 39.8939 - val_loss: 26.9399\n",
      "Epoch 31/32\n",
      "51/51 [==============================] - 1s 16ms/step - loss: 40.1350 - val_loss: 24.5350\n",
      "Epoch 32/32\n",
      "51/51 [==============================] - 1s 16ms/step - loss: 40.1354 - val_loss: 25.3248\n"
     ]
    },
    {
     "data": {
      "text/plain": [
       "<keras.src.callbacks.History at 0x144812dc0>"
      ]
     },
     "execution_count": 18,
     "metadata": {},
     "output_type": "execute_result"
    }
   ],
   "source": [
    "model.fit(X_train, y_train, batch_size=8, epochs=32, verbose=1,\n",
    "          validation_data=(X_valid, y_valid),\n",
    "          callbacks=[modelcheckpoint])"
   ]
  },
  {
   "cell_type": "markdown",
   "id": "180c3a01-877e-4571-86c0-1921fec133c6",
   "metadata": {},
   "source": [
    "### perform inference"
   ]
  },
  {
   "cell_type": "code",
   "execution_count": 19,
   "id": "956be0d9-bf85-4c1b-9de8-cdb1f62a8755",
   "metadata": {},
   "outputs": [],
   "source": [
    "model.load_weights(output_path + '/weights.31.hdf5')"
   ]
  },
  {
   "cell_type": "code",
   "execution_count": 20,
   "id": "a86c4afd-ee82-44b5-adf3-0c386b90e66f",
   "metadata": {},
   "outputs": [
    {
     "data": {
      "text/plain": [
       "array([  9.32909,   0.     ,  18.1    ,   0.     ,   0.713  ,   6.185  ,\n",
       "        98.7    ,   2.2616 ,  24.     , 666.     ,  20.2    , 396.9    ,\n",
       "        18.13   ])"
      ]
     },
     "execution_count": 20,
     "metadata": {},
     "output_type": "execute_result"
    }
   ],
   "source": [
    "X_valid[42]"
   ]
  },
  {
   "cell_type": "code",
   "execution_count": 25,
   "id": "b6539de6-ff2f-4164-9ea3-bc908238916a",
   "metadata": {},
   "outputs": [
    {
     "data": {
      "text/plain": [
       "(13,)"
      ]
     },
     "execution_count": 25,
     "metadata": {},
     "output_type": "execute_result"
    }
   ],
   "source": [
    "X_valid[42].shape"
   ]
  },
  {
   "cell_type": "code",
   "execution_count": 21,
   "id": "b8a7c757-509e-4152-beb1-798e56c44cc6",
   "metadata": {},
   "outputs": [
    {
     "data": {
      "text/plain": [
       "14.1"
      ]
     },
     "execution_count": 21,
     "metadata": {},
     "output_type": "execute_result"
    }
   ],
   "source": [
    "y_valid[42]"
   ]
  },
  {
   "cell_type": "code",
   "execution_count": 24,
   "id": "ea5a430f-f878-4f1c-91d6-e5699c473061",
   "metadata": {},
   "outputs": [
    {
     "name": "stdout",
     "output_type": "stream",
     "text": [
      "1/1 [==============================] - 1s 580ms/step\n"
     ]
    },
    {
     "data": {
      "text/plain": [
       "array([[19.005325]], dtype=float32)"
      ]
     },
     "execution_count": 24,
     "metadata": {},
     "output_type": "execute_result"
    }
   ],
   "source": [
    "model.predict(np.reshape(X_valid[42], [1,13]))"
   ]
  },
  {
   "cell_type": "code",
   "execution_count": null,
   "id": "77ef3b42-2862-4e2f-9601-fc977b177385",
   "metadata": {},
   "outputs": [],
   "source": []
  }
 ],
 "metadata": {
  "kernelspec": {
   "display_name": "Python 3 (ipykernel)",
   "language": "python",
   "name": "python3"
  },
  "language_info": {
   "codemirror_mode": {
    "name": "ipython",
    "version": 3
   },
   "file_extension": ".py",
   "mimetype": "text/x-python",
   "name": "python",
   "nbconvert_exporter": "python",
   "pygments_lexer": "ipython3",
   "version": "3.9.18"
  }
 },
 "nbformat": 4,
 "nbformat_minor": 5
}
