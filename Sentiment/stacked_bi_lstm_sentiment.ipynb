{
 "cells": [
  {
   "cell_type": "code",
   "execution_count": 2,
   "id": "5af24f9a-b947-4846-b367-4541537cb9d4",
   "metadata": {},
   "outputs": [],
   "source": [
    "import tensorflow\n",
    "from tensorflow.keras.datasets import imdb\n",
    "from tensorflow.keras.preprocessing.sequence import pad_sequences\n",
    "from tensorflow.keras.models import Sequential\n",
    "from tensorflow.keras.layers import Dense, Dropout, Embedding, SpatialDropout1D, LSTM\n",
    "from tensorflow.keras.layers import Bidirectional\n",
    "from tensorflow.keras.callbacks import ModelCheckpoint\n",
    "import os\n",
    "from sklearn.metrics import roc_auc_score\n",
    "import matplotlib.pyplot as plt"
   ]
  },
  {
   "cell_type": "markdown",
   "id": "edf8a108-b292-4ab5-9868-1b2591fc7b7e",
   "metadata": {},
   "source": [
    "### Set hyperparameters"
   ]
  },
  {
   "cell_type": "code",
   "execution_count": 8,
   "id": "749b2af9-c4e2-4891-80a0-a7b47f1fac60",
   "metadata": {},
   "outputs": [],
   "source": [
    "# output directory\n",
    "output_dir = 'model_output/stackedLSTM'\n",
    "\n",
    "# training\n",
    "epochs = 4\n",
    "batch_size = 128\n",
    "\n",
    "# vector space embedding\n",
    "n_dim = 64\n",
    "n_unique_words = 10000\n",
    "max_review_length = 200\n",
    "pad_type = trunc_type = 'pre'\n",
    "drop_embed = 0.2\n",
    "\n",
    "# convolutional layer\n",
    "n_lstm_1 = 256\n",
    "n_lstm_2 = 64\n",
    "drop_lstm = 0.2\n",
    "\n",
    "# dense layer (usually not needed for RNN)\n",
    "# n_dense = 256\n",
    "# dropout = 0.2"
   ]
  },
  {
   "cell_type": "markdown",
   "id": "915f148a-2602-4b74-81c5-9b3945b24c39",
   "metadata": {},
   "source": [
    "### Load data"
   ]
  },
  {
   "cell_type": "code",
   "execution_count": 9,
   "id": "c26b0c18-89e5-4121-83b0-5ee2c21ac69d",
   "metadata": {},
   "outputs": [],
   "source": [
    "(x_train, y_train), (x_valid, y_valid) = imdb.load_data(num_words=n_unique_words)                                                       "
   ]
  },
  {
   "cell_type": "markdown",
   "id": "5042329c-e716-40e9-a04a-1270a67f9b9b",
   "metadata": {},
   "source": [
    "### Preprocess data"
   ]
  },
  {
   "cell_type": "code",
   "execution_count": 10,
   "id": "5d20c509-ac91-4ccf-907b-4f6fbbb7357d",
   "metadata": {},
   "outputs": [],
   "source": [
    "x_train = pad_sequences(x_train, maxlen=max_review_length, padding=pad_type,\n",
    "                        truncating=trunc_type, value=0)\n",
    "x_valid = pad_sequences(x_valid, maxlen=max_review_length, padding=pad_type,\n",
    "                        truncating=trunc_type, value=0)"
   ]
  },
  {
   "cell_type": "markdown",
   "id": "1798c9b9-0e98-4cca-9a35-934c1720404f",
   "metadata": {},
   "source": [
    "### Design neural network"
   ]
  },
  {
   "cell_type": "code",
   "execution_count": 11,
   "id": "a596bc63-e3e2-426c-8584-eb7159e578b4",
   "metadata": {},
   "outputs": [],
   "source": [
    "model = Sequential()\n",
    "\n",
    "# first hidden layer\n",
    "model.add(Embedding(n_unique_words, n_dim, input_length=max_review_length))\n",
    "model.add(SpatialDropout1D(drop_embed))\n",
    "\n",
    "# first LSTM layer\n",
    "model.add(Bidirectional(LSTM(n_lstm_1, dropout=drop_lstm, return_sequences=True)))\n",
    "\n",
    "# second LSTM layer\n",
    "model.add(Bidirectional(LSTM(n_lstm_2, dropout=drop_lstm)))\n",
    "\n",
    "# output layer\n",
    "model.add(Dense(1, activation='sigmoid'))"
   ]
  },
  {
   "cell_type": "code",
   "execution_count": 12,
   "id": "8fde36ff-9df2-45c4-a3a8-aa5b53cada1f",
   "metadata": {},
   "outputs": [
    {
     "name": "stdout",
     "output_type": "stream",
     "text": [
      "Model: \"sequential_1\"\n",
      "_________________________________________________________________\n",
      " Layer (type)                Output Shape              Param #   \n",
      "=================================================================\n",
      " embedding_1 (Embedding)     (None, 200, 64)           640000    \n",
      "                                                                 \n",
      " spatial_dropout1d_1 (Spati  (None, 200, 64)           0         \n",
      " alDropout1D)                                                    \n",
      "                                                                 \n",
      " bidirectional (Bidirection  (None, 200, 512)          657408    \n",
      " al)                                                             \n",
      "                                                                 \n",
      " bidirectional_1 (Bidirecti  (None, 128)               295424    \n",
      " onal)                                                           \n",
      "                                                                 \n",
      " dense (Dense)               (None, 1)                 129       \n",
      "                                                                 \n",
      "=================================================================\n",
      "Total params: 1592961 (6.08 MB)\n",
      "Trainable params: 1592961 (6.08 MB)\n",
      "Non-trainable params: 0 (0.00 Byte)\n",
      "_________________________________________________________________\n"
     ]
    }
   ],
   "source": [
    "model.summary()"
   ]
  },
  {
   "cell_type": "markdown",
   "id": "0caf91e3-36f8-4c1d-854f-93be8da676a5",
   "metadata": {},
   "source": [
    "### Configure model"
   ]
  },
  {
   "cell_type": "code",
   "execution_count": 13,
   "id": "8225ea84-5d49-48fd-9a2d-5059c482da54",
   "metadata": {},
   "outputs": [],
   "source": [
    "model.compile(loss='binary_crossentropy', optimizer='nadam', metrics=['accuracy'])"
   ]
  },
  {
   "cell_type": "code",
   "execution_count": 14,
   "id": "88e9c415-4cee-4d2a-90af-68777fb65622",
   "metadata": {},
   "outputs": [],
   "source": [
    "modelcheckpoint = ModelCheckpoint(filepath=output_dir+\"/weights.{epoch:02d}.hdf5\")\n",
    "if not os.path.exists(output_dir):\n",
    "    os.makedirs(output_dir)"
   ]
  },
  {
   "cell_type": "markdown",
   "id": "8b7bc28d-42be-413b-82c8-61318aa02796",
   "metadata": {},
   "source": [
    "### Train"
   ]
  },
  {
   "cell_type": "code",
   "execution_count": 15,
   "id": "6754e2ec-97b6-4d83-9317-591e0c609263",
   "metadata": {},
   "outputs": [
    {
     "name": "stdout",
     "output_type": "stream",
     "text": [
      "Epoch 1/4\n"
     ]
    },
    {
     "name": "stderr",
     "output_type": "stream",
     "text": [
      "2024-03-04 09:55:17.906050: I tensorflow/core/grappler/optimizers/custom_graph_optimizer_registry.cc:117] Plugin optimizer for device_type GPU is enabled.\n"
     ]
    },
    {
     "name": "stdout",
     "output_type": "stream",
     "text": [
      "196/196 [==============================] - 45s 198ms/step - loss: 0.6352 - accuracy: 0.6423 - val_loss: 0.5162 - val_accuracy: 0.7512\n",
      "Epoch 2/4\n"
     ]
    },
    {
     "name": "stderr",
     "output_type": "stream",
     "text": [
      "/Users/jaejin/mambaforge/envs/tf/lib/python3.9/site-packages/keras/src/engine/training.py:3103: UserWarning: You are saving your model as an HDF5 file via `model.save()`. This file format is considered legacy. We recommend using instead the native Keras format, e.g. `model.save('my_model.keras')`.\n",
      "  saving_api.save_model(\n"
     ]
    },
    {
     "name": "stdout",
     "output_type": "stream",
     "text": [
      "196/196 [==============================] - 35s 180ms/step - loss: 0.4745 - accuracy: 0.7813 - val_loss: 0.5540 - val_accuracy: 0.7018\n",
      "Epoch 3/4\n",
      "196/196 [==============================] - 34s 175ms/step - loss: 0.3692 - accuracy: 0.8441 - val_loss: 0.3843 - val_accuracy: 0.8363\n",
      "Epoch 4/4\n",
      "196/196 [==============================] - 33s 170ms/step - loss: 0.2612 - accuracy: 0.8965 - val_loss: 0.3476 - val_accuracy: 0.8514\n"
     ]
    },
    {
     "data": {
      "text/plain": [
       "<keras.src.callbacks.History at 0x29a41aa90>"
      ]
     },
     "execution_count": 15,
     "metadata": {},
     "output_type": "execute_result"
    }
   ],
   "source": [
    "model.fit(x_train, y_train, batch_size=batch_size, epochs=epochs, verbose=1,\n",
    "          validation_data=(x_valid, y_valid), callbacks=[modelcheckpoint])"
   ]
  },
  {
   "cell_type": "markdown",
   "id": "77a62d44-7827-4ded-b5c0-2d2993f933a5",
   "metadata": {},
   "source": [
    "### Evaluate"
   ]
  },
  {
   "cell_type": "code",
   "execution_count": 16,
   "id": "b0056b56-09ff-4804-9fab-f1721a50f2b9",
   "metadata": {},
   "outputs": [],
   "source": [
    "model.load_weights(output_dir+\"/weights.04.hdf5\")"
   ]
  },
  {
   "cell_type": "code",
   "execution_count": 17,
   "id": "87653c8a-7502-40f1-bf54-23832de6b678",
   "metadata": {},
   "outputs": [
    {
     "name": "stdout",
     "output_type": "stream",
     "text": [
      "782/782 [==============================] - 25s 31ms/step\n"
     ]
    }
   ],
   "source": [
    "y_hat = model.predict(x_valid)"
   ]
  },
  {
   "cell_type": "code",
   "execution_count": 18,
   "id": "8839ca04-37b7-4444-b087-44c89aaaa1f8",
   "metadata": {},
   "outputs": [
    {
     "data": {
      "text/plain": [
       "(25000, 1)"
      ]
     },
     "execution_count": 18,
     "metadata": {},
     "output_type": "execute_result"
    }
   ],
   "source": [
    "y_hat.shape"
   ]
  },
  {
   "cell_type": "code",
   "execution_count": 19,
   "id": "f4636643-196d-4f4a-b04c-b141806c2919",
   "metadata": {},
   "outputs": [
    {
     "data": {
      "image/png": "[encoded data removed]",
      "text/plain": [
       "<Figure size 640x480 with 1 Axes>"
      ]
     },
     "metadata": {},
     "output_type": "display_data"
    }
   ],
   "source": [
    "plt.hist(y_hat)\n",
    "# plt.axvline(x=0.5, color='orange')\n",
    "_ = plt.axvline(x=0.5, color='orange')"
   ]
  },
  {
   "cell_type": "code",
   "execution_count": 20,
   "id": "80d1a01d-93c6-481c-bca5-bd09df74eb5c",
   "metadata": {},
   "outputs": [
    {
     "data": {
      "text/plain": [
       "'93.78'"
      ]
     },
     "execution_count": 20,
     "metadata": {},
     "output_type": "execute_result"
    }
   ],
   "source": [
    "\"{:0.2f}\".format(roc_auc_score(y_valid, y_hat) * 100.0)"
   ]
  },
  {
   "cell_type": "code",
   "execution_count": null,
   "id": "15b62a4b-26ba-4f44-94c1-a0715672703c",
   "metadata": {},
   "outputs": [],
   "source": []
  }
 ],
 "metadata": {
  "kernelspec": {
   "display_name": "Python 3 (ipykernel)",
   "language": "python",
   "name": "python3"
  },
  "language_info": {
   "codemirror_mode": {
    "name": "ipython",
    "version": 3
   },
   "file_extension": ".py",
   "mimetype": "text/x-python",
   "name": "python",
   "nbconvert_exporter": "python",
   "pygments_lexer": "ipython3",
   "version": "3.9.18"
  }
 },
 "nbformat": 4,
 "nbformat_minor": 5
}
